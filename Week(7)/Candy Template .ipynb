{
 "cells": [
  {
   "cell_type": "markdown",
   "metadata": {},
   "source": [
    "# Project: cleanning - [candy data]\n",
    "### this notebook is for educational purpose . in this notebook we will do some cleanning\n",
    "\n",
    "## Table of Contents\n",
    "<ul>\n",
    "<li><a href=\"#intro\">Introduction</a></li>\n",
    "<li><a href=\"#wrangling\">wrangling</a></li>\n",
    "  \n",
    "</ul>"
   ]
  },
  {
   "cell_type": "markdown",
   "metadata": {},
   "source": [
    "<a id='intro'></a>\n",
    "## Introduction\n",
    "\n",
    "### Dataset Description \n",
    "\n",
    "> i will go through candy data 2017 , this data has :\n",
    "- Internal_ID\n",
    "- Q1-Going Out?: Are you actually going trick or treating yourself? \"has values `Yes or No`\"\n",
    "- Q2-Gender: It has four different options, `Femal ,Male ,Other ,I'd rather not say`\n",
    "- Q3-Age: Numerical field\n",
    "- Q4-Country: Text Field, but users have written their own version of the names. Example, for America, there are entries such as USA, us, US, America so we should consider that while cleanning\n",
    "- Q5-State/Province: Text Field, but users have written their own version of the names. Same as the country data.\n",
    "- Q6-Joy Or Despair: All kinds of chocolate bars are the questions with three distinct options to choose from (Joy, Meh, Despair).\n",
    "- Q7-Joy Other: Text Field to write items not included above that give you JOY. Lots of missing values.\n",
    "- Q8-Despair Other: Text Field ti write items not included above that give you DESPAIR. Lots of missing values.\n",
    "- Q9-Other Comments: Text Field. Lots of missing values.\n",
    "- Q10-Dress: Binary field. Missing values present\n",
    "- Unnamed: 113\n",
    "- Q11-Day: Binary Answer Field. Missing values present\n"
   ]
  },
  {
   "cell_type": "markdown",
   "metadata": {},
   "source": [
    "# 1- import packages and load data"
   ]
  },
  {
   "cell_type": "code",
   "execution_count": 30,
   "metadata": {},
   "outputs": [
    {
     "name": "stdout",
     "output_type": "stream",
     "text": [
      "Data Shape: (2460, 120)\n"
     ]
    },
    {
     "name": "stderr",
     "output_type": "stream",
     "text": [
      "C:\\Users\\user\\anaconda3\\Lib\\site-packages\\openpyxl\\worksheet\\_read_only.py:85: UserWarning: Unknown extension is not supported and will be removed\n",
      "  for idx, row in parser.parse():\n"
     ]
    },
    {
     "data": {
      "text/html": [
       "<div>\n",
       "<style scoped>\n",
       "    .dataframe tbody tr th:only-of-type {\n",
       "        vertical-align: middle;\n",
       "    }\n",
       "\n",
       "    .dataframe tbody tr th {\n",
       "        vertical-align: top;\n",
       "    }\n",
       "\n",
       "    .dataframe thead th {\n",
       "        text-align: right;\n",
       "    }\n",
       "</style>\n",
       "<table border=\"1\" class=\"dataframe\">\n",
       "  <thead>\n",
       "    <tr style=\"text-align: right;\">\n",
       "      <th></th>\n",
       "      <th>Internal ID</th>\n",
       "      <th>Q1: GOING OUT?</th>\n",
       "      <th>Q2: GENDER</th>\n",
       "      <th>Q3: AGE</th>\n",
       "      <th>Q4: COUNTRY</th>\n",
       "      <th>Q5: STATE, PROVINCE, COUNTY, ETC</th>\n",
       "      <th>Q6 | 100 Grand Bar</th>\n",
       "      <th>Q6 | Anonymous brown globs that come in black and orange wrappers\\t(a.k.a. Mary Janes)</th>\n",
       "      <th>Q6 | Any full-sized candy bar</th>\n",
       "      <th>Q6 | Black Jacks</th>\n",
       "      <th>...</th>\n",
       "      <th>Q8: DESPAIR OTHER</th>\n",
       "      <th>Q9: OTHER COMMENTS</th>\n",
       "      <th>Q10: DRESS</th>\n",
       "      <th>Unnamed: 113</th>\n",
       "      <th>Q11: DAY</th>\n",
       "      <th>Q12: MEDIA [Daily Dish]</th>\n",
       "      <th>Q12: MEDIA [Science]</th>\n",
       "      <th>Q12: MEDIA [ESPN]</th>\n",
       "      <th>Q12: MEDIA [Yahoo]</th>\n",
       "      <th>Click Coordinates (x, y)</th>\n",
       "    </tr>\n",
       "  </thead>\n",
       "  <tbody>\n",
       "    <tr>\n",
       "      <th>0</th>\n",
       "      <td>90258773</td>\n",
       "      <td>NaN</td>\n",
       "      <td>NaN</td>\n",
       "      <td>NaN</td>\n",
       "      <td>NaN</td>\n",
       "      <td>NaN</td>\n",
       "      <td>NaN</td>\n",
       "      <td>NaN</td>\n",
       "      <td>NaN</td>\n",
       "      <td>NaN</td>\n",
       "      <td>...</td>\n",
       "      <td>NaN</td>\n",
       "      <td>NaN</td>\n",
       "      <td>NaN</td>\n",
       "      <td>NaN</td>\n",
       "      <td>NaN</td>\n",
       "      <td>NaN</td>\n",
       "      <td>NaN</td>\n",
       "      <td>NaN</td>\n",
       "      <td>NaN</td>\n",
       "      <td>NaN</td>\n",
       "    </tr>\n",
       "    <tr>\n",
       "      <th>1</th>\n",
       "      <td>90272821</td>\n",
       "      <td>No</td>\n",
       "      <td>Male</td>\n",
       "      <td>44</td>\n",
       "      <td>USA</td>\n",
       "      <td>NM</td>\n",
       "      <td>MEH</td>\n",
       "      <td>DESPAIR</td>\n",
       "      <td>JOY</td>\n",
       "      <td>MEH</td>\n",
       "      <td>...</td>\n",
       "      <td>NaN</td>\n",
       "      <td>Bottom line is Twix is really the only candy w...</td>\n",
       "      <td>White and gold</td>\n",
       "      <td>NaN</td>\n",
       "      <td>Sunday</td>\n",
       "      <td>NaN</td>\n",
       "      <td>1.0</td>\n",
       "      <td>NaN</td>\n",
       "      <td>NaN</td>\n",
       "      <td>(84, 25)</td>\n",
       "    </tr>\n",
       "    <tr>\n",
       "      <th>2</th>\n",
       "      <td>90272829</td>\n",
       "      <td>NaN</td>\n",
       "      <td>Male</td>\n",
       "      <td>49</td>\n",
       "      <td>USA</td>\n",
       "      <td>Virginia</td>\n",
       "      <td>NaN</td>\n",
       "      <td>NaN</td>\n",
       "      <td>NaN</td>\n",
       "      <td>NaN</td>\n",
       "      <td>...</td>\n",
       "      <td>NaN</td>\n",
       "      <td>NaN</td>\n",
       "      <td>NaN</td>\n",
       "      <td>NaN</td>\n",
       "      <td>NaN</td>\n",
       "      <td>NaN</td>\n",
       "      <td>NaN</td>\n",
       "      <td>NaN</td>\n",
       "      <td>NaN</td>\n",
       "      <td>NaN</td>\n",
       "    </tr>\n",
       "    <tr>\n",
       "      <th>3</th>\n",
       "      <td>90272840</td>\n",
       "      <td>No</td>\n",
       "      <td>Male</td>\n",
       "      <td>40</td>\n",
       "      <td>us</td>\n",
       "      <td>or</td>\n",
       "      <td>MEH</td>\n",
       "      <td>DESPAIR</td>\n",
       "      <td>JOY</td>\n",
       "      <td>MEH</td>\n",
       "      <td>...</td>\n",
       "      <td>NaN</td>\n",
       "      <td>Raisins can go to hell</td>\n",
       "      <td>White and gold</td>\n",
       "      <td>NaN</td>\n",
       "      <td>Sunday</td>\n",
       "      <td>NaN</td>\n",
       "      <td>1.0</td>\n",
       "      <td>NaN</td>\n",
       "      <td>NaN</td>\n",
       "      <td>(75, 23)</td>\n",
       "    </tr>\n",
       "    <tr>\n",
       "      <th>4</th>\n",
       "      <td>90272841</td>\n",
       "      <td>No</td>\n",
       "      <td>Male</td>\n",
       "      <td>23</td>\n",
       "      <td>usa</td>\n",
       "      <td>exton pa</td>\n",
       "      <td>JOY</td>\n",
       "      <td>DESPAIR</td>\n",
       "      <td>JOY</td>\n",
       "      <td>DESPAIR</td>\n",
       "      <td>...</td>\n",
       "      <td>NaN</td>\n",
       "      <td>NaN</td>\n",
       "      <td>White and gold</td>\n",
       "      <td>NaN</td>\n",
       "      <td>Friday</td>\n",
       "      <td>NaN</td>\n",
       "      <td>1.0</td>\n",
       "      <td>NaN</td>\n",
       "      <td>NaN</td>\n",
       "      <td>(70, 10)</td>\n",
       "    </tr>\n",
       "  </tbody>\n",
       "</table>\n",
       "<p>5 rows × 120 columns</p>\n",
       "</div>"
      ],
      "text/plain": [
       "   Internal ID Q1: GOING OUT? Q2: GENDER Q3: AGE Q4: COUNTRY  \\\n",
       "0     90258773            NaN        NaN     NaN         NaN   \n",
       "1     90272821             No       Male      44        USA    \n",
       "2     90272829            NaN       Male      49         USA   \n",
       "3     90272840             No       Male      40          us   \n",
       "4     90272841             No       Male      23         usa   \n",
       "\n",
       "  Q5: STATE, PROVINCE, COUNTY, ETC Q6 | 100 Grand Bar  \\\n",
       "0                              NaN                NaN   \n",
       "1                               NM                MEH   \n",
       "2                         Virginia                NaN   \n",
       "3                               or                MEH   \n",
       "4                         exton pa                JOY   \n",
       "\n",
       "  Q6 | Anonymous brown globs that come in black and orange wrappers\\t(a.k.a. Mary Janes)  \\\n",
       "0                                                NaN                                       \n",
       "1                                            DESPAIR                                       \n",
       "2                                                NaN                                       \n",
       "3                                            DESPAIR                                       \n",
       "4                                            DESPAIR                                       \n",
       "\n",
       "  Q6 | Any full-sized candy bar Q6 | Black Jacks  ... Q8: DESPAIR OTHER  \\\n",
       "0                           NaN              NaN  ...               NaN   \n",
       "1                           JOY              MEH  ...               NaN   \n",
       "2                           NaN              NaN  ...               NaN   \n",
       "3                           JOY              MEH  ...               NaN   \n",
       "4                           JOY          DESPAIR  ...               NaN   \n",
       "\n",
       "                                  Q9: OTHER COMMENTS      Q10: DRESS  \\\n",
       "0                                                NaN             NaN   \n",
       "1  Bottom line is Twix is really the only candy w...  White and gold   \n",
       "2                                                NaN             NaN   \n",
       "3                             Raisins can go to hell  White and gold   \n",
       "4                                                NaN  White and gold   \n",
       "\n",
       "  Unnamed: 113 Q11: DAY Q12: MEDIA [Daily Dish] Q12: MEDIA [Science]  \\\n",
       "0          NaN      NaN                     NaN                  NaN   \n",
       "1          NaN   Sunday                     NaN                  1.0   \n",
       "2          NaN      NaN                     NaN                  NaN   \n",
       "3          NaN   Sunday                     NaN                  1.0   \n",
       "4          NaN   Friday                     NaN                  1.0   \n",
       "\n",
       "  Q12: MEDIA [ESPN] Q12: MEDIA [Yahoo] Click Coordinates (x, y)  \n",
       "0               NaN                NaN                      NaN  \n",
       "1               NaN                NaN                 (84, 25)  \n",
       "2               NaN                NaN                      NaN  \n",
       "3               NaN                NaN                 (75, 23)  \n",
       "4               NaN                NaN                 (70, 10)  \n",
       "\n",
       "[5 rows x 120 columns]"
      ]
     },
     "execution_count": 30,
     "metadata": {},
     "output_type": "execute_result"
    }
   ],
   "source": [
    "import pandas as pd\n",
    "import numpy as np\n",
    "\n",
    "df = pd.read_excel(\"candyhierarchy2017.xlsx\")\n",
    "\n",
    "print(\"Data Shape:\", df.shape)\n",
    "df.head()\n"
   ]
  },
  {
   "cell_type": "markdown",
   "metadata": {},
   "source": [
    "<a id='wrangling'></a>\n",
    "## Data Wrangling\n",
    "\n",
    "\n",
    "\n",
    "### General Properties"
   ]
  },
  {
   "cell_type": "markdown",
   "metadata": {},
   "source": [
    "# 2- show some general properties for the data "
   ]
  },
  {
   "cell_type": "code",
   "execution_count": 40,
   "metadata": {},
   "outputs": [
    {
     "name": "stdout",
     "output_type": "stream",
     "text": [
      "Column Names:\n",
      "Index(['Internal ID', 'Q1: GOING OUT?', 'Q2: GENDER', 'Q3: AGE', 'Q4: COUNTRY',\n",
      "       'Q5: STATE, PROVINCE, COUNTY, ETC', 'Q6 | 100 Grand Bar',\n",
      "       'Q6 | Anonymous brown globs that come in black and orange wrappers\\t(a.k.a. Mary Janes)',\n",
      "       'Q6 | Any full-sized candy bar', 'Q6 | Black Jacks',\n",
      "       ...\n",
      "       'Q8: DESPAIR OTHER', 'Q9: OTHER COMMENTS', 'Q10: DRESS', 'Unnamed: 113',\n",
      "       'Q11: DAY', 'Q12: MEDIA [Daily Dish]', 'Q12: MEDIA [Science]',\n",
      "       'Q12: MEDIA [ESPN]', 'Q12: MEDIA [Yahoo]', 'Click Coordinates (x, y)'],\n",
      "      dtype='object', length=120)\n",
      "\n",
      "Shape of Dataset:\n",
      "(2460, 120)\n",
      "\n",
      "Data Types:\n",
      "Internal ID                   int64\n",
      "Q1: GOING OUT?               object\n",
      "Q2: GENDER                   object\n",
      "Q3: AGE                      object\n",
      "Q4: COUNTRY                  object\n",
      "                             ...   \n",
      "Q12: MEDIA [Daily Dish]     float64\n",
      "Q12: MEDIA [Science]        float64\n",
      "Q12: MEDIA [ESPN]           float64\n",
      "Q12: MEDIA [Yahoo]          float64\n",
      "Click Coordinates (x, y)     object\n",
      "Length: 120, dtype: object\n",
      "\n",
      "Missing Values per Column:\n",
      "Internal ID                    0\n",
      "Q1: GOING OUT?               110\n",
      "Q2: GENDER                    41\n",
      "Q3: AGE                       84\n",
      "Q4: COUNTRY                   64\n",
      "                            ... \n",
      "Q12: MEDIA [Daily Dish]     2375\n",
      "Q12: MEDIA [Science]        1098\n",
      "Q12: MEDIA [ESPN]           2361\n",
      "Q12: MEDIA [Yahoo]          2393\n",
      "Click Coordinates (x, y)     855\n",
      "Length: 120, dtype: int64\n",
      "\n",
      "Statistical Summary:\n",
      "        Internal ID  Q12: MEDIA [Daily Dish]  Q12: MEDIA [Science]  \\\n",
      "count  2.460000e+03                     85.0                1362.0   \n",
      "mean   9.028016e+07                      1.0                   1.0   \n",
      "std    7.435532e+03                      0.0                   0.0   \n",
      "min    9.025877e+07                      1.0                   1.0   \n",
      "25%    9.027520e+07                      1.0                   1.0   \n",
      "50%    9.027780e+07                      1.0                   1.0   \n",
      "75%    9.028242e+07                      1.0                   1.0   \n",
      "max    9.031480e+07                      1.0                   1.0   \n",
      "\n",
      "       Q12: MEDIA [ESPN]  Q12: MEDIA [Yahoo]  \n",
      "count               99.0                67.0  \n",
      "mean                 1.0                 1.0  \n",
      "std                  0.0                 0.0  \n",
      "min                  1.0                 1.0  \n",
      "25%                  1.0                 1.0  \n",
      "50%                  1.0                 1.0  \n",
      "75%                  1.0                 1.0  \n",
      "max                  1.0                 1.0  \n"
     ]
    }
   ],
   "source": [
    "print(\"Column Names:\")\n",
    "print(df.columns)\n",
    "\n",
    "# Dataset shape \n",
    "print(\"\\nShape of Dataset:\")\n",
    "print(df.shape)\n",
    "\n",
    "# Data types of each column\n",
    "print(\"\\nData Types:\")\n",
    "print(df.dtypes)\n",
    "\n",
    "# Number of missing values in each column\n",
    "print(\"\\nMissing Values per Column:\")\n",
    "print(df.isnull().sum())\n",
    "\n",
    "# General statistics \n",
    "print(\"\\nStatistical Summary:\")\n",
    "print(df.describe())"
   ]
  },
  {
   "cell_type": "markdown",
   "metadata": {},
   "source": [
    "# 3- write summary about what you get form the above functions\n",
    "> #### tips : this summary can be about : if there is any missing values , if there a wrong data type , if there a wrong range of values , ...."
   ]
  },
  {
   "cell_type": "markdown",
   "metadata": {},
   "source": [
    "1. **Missing Values:**\n",
    "   - Several columns contain a significant number of missing values, especially in:\n",
    "     - `Q7: JOY OTHER`\n",
    "     - `Q8: DESPAIR OTHER`\n",
    "     - `Q9: OTHER COMMENTS`\n",
    "     - `Q10: DRESS`\n",
    "     - `Q11: DAY`\n",
    "\n",
    "2. **Data Types:**\n",
    "   - Most columns are of type string, even those that should be numeric.\n",
    "   - `Q3: AGE` should be a numeric field.\n"
   ]
  },
  {
   "cell_type": "markdown",
   "metadata": {},
   "source": [
    "# cleaning"
   ]
  },
  {
   "cell_type": "markdown",
   "metadata": {},
   "source": [
    "### 4- drop all the useless columns and  rows with too much NaN , \n",
    "> tip : useless columns can be like `Internal ID`and can be also columns with too much NaN \n",
    "- rename columns for easy access"
   ]
  },
  {
   "cell_type": "code",
   "execution_count": 42,
   "metadata": {},
   "outputs": [
    {
     "name": "stdout",
     "output_type": "stream",
     "text": [
      "Shape after dropping useless columns and rows: (2427, 7)\n"
     ]
    }
   ],
   "source": [
    "# Drop Internal ID column\n",
    "df.drop(columns=['Internal ID'], inplace=True)\n",
    "\n",
    "# Drop columns with more than 80% missing values\n",
    "threshold = len(df) * 0.8\n",
    "df.dropna(axis=1, thresh=threshold, inplace=True)\n",
    "\n",
    "# Drop rows with more than 50% missing values\n",
    "row_threshold = df.shape[1] * 0.5\n",
    "df.dropna(axis=0, thresh=row_threshold, inplace=True)\n",
    "\n",
    "\n",
    "print(\"Shape after dropping useless columns and rows:\", df.shape)\n"
   ]
  },
  {
   "cell_type": "code",
   "execution_count": null,
   "metadata": {},
   "outputs": [],
   "source": []
  },
  {
   "cell_type": "markdown",
   "metadata": {},
   "source": [
    "### 5 - clean `going out` column \n",
    "> tip : you should choose which best value to put in place of these NaNs ( mode, unknown,other ....etc)"
   ]
  },
  {
   "cell_type": "code",
   "execution_count": 44,
   "metadata": {},
   "outputs": [
    {
     "name": "stdout",
     "output_type": "stream",
     "text": [
      "Unique values before cleaning: ['No' nan 'Yes']\n",
      "Unique values after cleaning: ['No' 'Unknown' 'Yes']\n",
      "Missing values in Going_Out: 0\n"
     ]
    }
   ],
   "source": [
    "print(\"Unique values before cleaning:\", df['Q1: GOING OUT?'].unique())\n",
    "\n",
    "df['Q1: GOING OUT?'] = df['Q1: GOING OUT?'].fillna('Unknown')\n",
    "\n",
    "print(\"Unique values after cleaning:\", df['Q1: GOING OUT?'].unique())\n",
    "print(\"Missing values in Going_Out:\", df['Q1: GOING OUT?'].isnull().sum())\n"
   ]
  },
  {
   "cell_type": "code",
   "execution_count": null,
   "metadata": {},
   "outputs": [],
   "source": []
  },
  {
   "cell_type": "markdown",
   "metadata": {},
   "source": [
    "### 6 - clean ` gender` column \n",
    "> tip : you should choose which best value to put in place of these NaNs ( mode, unknown,other ....etc)"
   ]
  },
  {
   "cell_type": "code",
   "execution_count": 46,
   "metadata": {},
   "outputs": [
    {
     "name": "stdout",
     "output_type": "stream",
     "text": [
      "Unique Gender values after cleaning:\n",
      "['Male' 'Female' \"I'D Rather Not Say\" 'Prefer not to say' 'Other']\n",
      "Missing values in Gender: 0\n"
     ]
    }
   ],
   "source": [
    "df['Q2: GENDER'] = df['Q2: GENDER'].str.strip().str.title()  # Capitalize first letter\n",
    "\n",
    "df['Q2: GENDER'] = df['Q2: GENDER'].replace({\n",
    "    'Femal': 'Female',\n",
    "    'F': 'Female',\n",
    "    'M': 'Male',\n",
    "    \"I'd Rather Not Say\": 'Prefer not to say',\n",
    "    'Na': 'Prefer not to say'\n",
    "})\n",
    "\n",
    "df['Q2: GENDER'] = df['Q2: GENDER'].fillna('Prefer not to say')\n",
    "\n",
    "print(\"Unique Gender values after cleaning:\")\n",
    "print(df['Q2: GENDER'].unique())\n",
    "\n",
    "print(\"Missing values in Gender:\", df['Q2: GENDER'].isnull().sum())\n"
   ]
  },
  {
   "cell_type": "markdown",
   "metadata": {},
   "source": [
    "### 7 - clean ` age` column \n",
    "> tip : note the type of age column , and NaN values\n",
    " - try to use `to_numeric` \n",
    " - tip : you should choose which best value to put in place of these NaNs ( mean, median, ....etc)"
   ]
  },
  {
   "cell_type": "code",
   "execution_count": 48,
   "metadata": {},
   "outputs": [
    {
     "name": "stdout",
     "output_type": "stream",
     "text": [
      "Missing values in Age after cleaning: 0\n",
      "Age range: 6.0 to 100.0\n"
     ]
    },
    {
     "name": "stderr",
     "output_type": "stream",
     "text": [
      "C:\\Users\\user\\AppData\\Local\\Temp\\ipykernel_2308\\346782992.py:6: SettingWithCopyWarning: \n",
      "A value is trying to be set on a copy of a slice from a DataFrame.\n",
      "Try using .loc[row_indexer,col_indexer] = value instead\n",
      "\n",
      "See the caveats in the documentation: https://pandas.pydata.org/pandas-docs/stable/user_guide/indexing.html#returning-a-view-versus-a-copy\n",
      "  df['Q3: AGE'] = df['Q3: AGE'].fillna(median_age)\n"
     ]
    }
   ],
   "source": [
    "df['Q3: AGE'] = pd.to_numeric(df['Q3: AGE'], errors='coerce')\n",
    "\n",
    "df = df[(df['Q3: AGE'] >= 5) & (df['Q3: AGE'] <= 100)]\n",
    "\n",
    "median_age = df['Q3: AGE'].median()\n",
    "df['Q3: AGE'] = df['Q3: AGE'].fillna(median_age)\n",
    "\n",
    "print(\"Missing values in Age after cleaning:\", df['Q3: AGE'].isnull().sum())\n",
    "print(\"Age range:\", df['Q3: AGE'].min(), \"to\", df['Q3: AGE'].max())\n"
   ]
  },
  {
   "cell_type": "markdown",
   "metadata": {},
   "source": [
    "### 8 - clean ` country` column\n",
    "> tip : note that country column has country names with different writing ways \n",
    "  - use fuzzywuzzy to deal with this problem\n",
    "  - you should choose which best value to put in place of these NaNs ( mode, unknown,other ....etc)"
   ]
  },
  {
   "cell_type": "code",
   "execution_count": 15,
   "metadata": {},
   "outputs": [
    {
     "name": "stdout",
     "output_type": "stream",
     "text": [
      "Requirement already satisfied: fuzzywuzzy in c:\\users\\user\\anaconda3\\lib\\site-packages (0.18.0)\n",
      "Requirement already satisfied: python-Levenshtein in c:\\users\\user\\anaconda3\\lib\\site-packages (0.27.1)\n",
      "Requirement already satisfied: Levenshtein==0.27.1 in c:\\users\\user\\anaconda3\\lib\\site-packages (from python-Levenshtein) (0.27.1)\n",
      "Requirement already satisfied: rapidfuzz<4.0.0,>=3.9.0 in c:\\users\\user\\anaconda3\\lib\\site-packages (from Levenshtein==0.27.1->python-Levenshtein) (3.13.0)\n",
      "Note: you may need to restart the kernel to use updated packages.\n"
     ]
    }
   ],
   "source": [
    "%pip install fuzzywuzzy python-Levenshtein"
   ]
  },
  {
   "cell_type": "code",
   "execution_count": 50,
   "metadata": {},
   "outputs": [
    {
     "name": "stderr",
     "output_type": "stream",
     "text": [
      "C:\\Users\\user\\AppData\\Local\\Temp\\ipykernel_2308\\4006948262.py:3: SettingWithCopyWarning: \n",
      "A value is trying to be set on a copy of a slice from a DataFrame.\n",
      "Try using .loc[row_indexer,col_indexer] = value instead\n",
      "\n",
      "See the caveats in the documentation: https://pandas.pydata.org/pandas-docs/stable/user_guide/indexing.html#returning-a-view-versus-a-copy\n",
      "  df['Q4: COUNTRY'] = df['Q4: COUNTRY'].str.strip().str.lower()\n",
      "C:\\Users\\user\\AppData\\Local\\Temp\\ipykernel_2308\\4006948262.py:5: SettingWithCopyWarning: \n",
      "A value is trying to be set on a copy of a slice from a DataFrame.\n",
      "Try using .loc[row_indexer,col_indexer] = value instead\n",
      "\n",
      "See the caveats in the documentation: https://pandas.pydata.org/pandas-docs/stable/user_guide/indexing.html#returning-a-view-versus-a-copy\n",
      "  df['Q4: COUNTRY'] = df['Q4: COUNTRY'].fillna('unknown')\n"
     ]
    },
    {
     "name": "stdout",
     "output_type": "stream",
     "text": [
      "Unique cleaned countries: ['usa' 'canada' 'unknown' 'other' 'uk' 'mexico' 'france' 'netherlands'\n",
      " 'germany' 'australia' 'japan' 'china' 'spain']\n"
     ]
    },
    {
     "name": "stderr",
     "output_type": "stream",
     "text": [
      "C:\\Users\\user\\AppData\\Local\\Temp\\ipykernel_2308\\4006948262.py:19: SettingWithCopyWarning: \n",
      "A value is trying to be set on a copy of a slice from a DataFrame.\n",
      "Try using .loc[row_indexer,col_indexer] = value instead\n",
      "\n",
      "See the caveats in the documentation: https://pandas.pydata.org/pandas-docs/stable/user_guide/indexing.html#returning-a-view-versus-a-copy\n",
      "  df['Q4: COUNTRY'] = df['Q4: COUNTRY'].apply(match_country)\n"
     ]
    }
   ],
   "source": [
    "from fuzzywuzzy import process\n",
    "\n",
    "df['Q4: COUNTRY'] = df['Q4: COUNTRY'].str.strip().str.lower()\n",
    "\n",
    "df['Q4: COUNTRY'] = df['Q4: COUNTRY'].fillna('unknown')\n",
    "\n",
    "valid_countries = [\n",
    "    'usa', 'canada', 'uk', 'germany', 'netherlands', 'japan', 'china',\n",
    "    'australia', 'france', 'mexico', 'spain', 'unknown'\n",
    "]\n",
    "\n",
    "\n",
    "def match_country(country):\n",
    "    if pd.isnull(country) or country == '':\n",
    "        return 'unknown'\n",
    "    best_match, score = process.extractOne(country, valid_countries)\n",
    "    return best_match if score > 80 else 'other'\n",
    "\n",
    "df['Q4: COUNTRY'] = df['Q4: COUNTRY'].apply(match_country)\n",
    "\n",
    "print(\"Unique cleaned countries:\", df['Q4: COUNTRY'].unique())\n"
   ]
  },
  {
   "cell_type": "markdown",
   "metadata": {},
   "source": [
    "### 9 - clean ` area` column\n",
    "> tip : area column has the same problem as country columns , but looking at all it's unique values may give us another way to deal with it rather than try to fix it"
   ]
  },
  {
   "cell_type": "code",
   "execution_count": 52,
   "metadata": {},
   "outputs": [
    {
     "name": "stdout",
     "output_type": "stream",
     "text": [
      "Unique cleaned states: ['Other' 'Unknown' 'California' 'Texas' 'New York' 'Florida' 'Illinois'\n",
      " 'Washington']\n"
     ]
    },
    {
     "name": "stderr",
     "output_type": "stream",
     "text": [
      "C:\\Users\\user\\AppData\\Local\\Temp\\ipykernel_2308\\2928425728.py:1: SettingWithCopyWarning: \n",
      "A value is trying to be set on a copy of a slice from a DataFrame.\n",
      "Try using .loc[row_indexer,col_indexer] = value instead\n",
      "\n",
      "See the caveats in the documentation: https://pandas.pydata.org/pandas-docs/stable/user_guide/indexing.html#returning-a-view-versus-a-copy\n",
      "  df['Q5: STATE, PROVINCE, COUNTY, ETC'] = df['Q5: STATE, PROVINCE, COUNTY, ETC'].str.strip().str.lower()\n",
      "C:\\Users\\user\\AppData\\Local\\Temp\\ipykernel_2308\\2928425728.py:3: SettingWithCopyWarning: \n",
      "A value is trying to be set on a copy of a slice from a DataFrame.\n",
      "Try using .loc[row_indexer,col_indexer] = value instead\n",
      "\n",
      "See the caveats in the documentation: https://pandas.pydata.org/pandas-docs/stable/user_guide/indexing.html#returning-a-view-versus-a-copy\n",
      "  df['Q5: STATE, PROVINCE, COUNTY, ETC'] = df['Q5: STATE, PROVINCE, COUNTY, ETC'].fillna('unknown')\n",
      "C:\\Users\\user\\AppData\\Local\\Temp\\ipykernel_2308\\2928425728.py:15: SettingWithCopyWarning: \n",
      "A value is trying to be set on a copy of a slice from a DataFrame.\n",
      "Try using .loc[row_indexer,col_indexer] = value instead\n",
      "\n",
      "See the caveats in the documentation: https://pandas.pydata.org/pandas-docs/stable/user_guide/indexing.html#returning-a-view-versus-a-copy\n",
      "  df['Q5: STATE, PROVINCE, COUNTY, ETC'] = df['Q5: STATE, PROVINCE, COUNTY, ETC'].apply(simplify_state)\n"
     ]
    }
   ],
   "source": [
    "df['Q5: STATE, PROVINCE, COUNTY, ETC'] = df['Q5: STATE, PROVINCE, COUNTY, ETC'].str.strip().str.lower()\n",
    "\n",
    "df['Q5: STATE, PROVINCE, COUNTY, ETC'] = df['Q5: STATE, PROVINCE, COUNTY, ETC'].fillna('unknown')\n",
    "\n",
    "common_states = ['california', 'texas', 'new york', 'florida', 'illinois', 'washington']\n",
    "\n",
    "def simplify_state(state):\n",
    "    if state in common_states:\n",
    "        return state.title()\n",
    "    elif state == 'unknown':\n",
    "        return 'Unknown'\n",
    "    else:\n",
    "        return 'Other'\n",
    "\n",
    "df['Q5: STATE, PROVINCE, COUNTY, ETC'] = df['Q5: STATE, PROVINCE, COUNTY, ETC'].apply(simplify_state)\n",
    "\n",
    "print(\"Unique cleaned states:\", df['Q5: STATE, PROVINCE, COUNTY, ETC'].unique())\n"
   ]
  },
  {
   "cell_type": "markdown",
   "metadata": {},
   "source": [
    "### 10 - clean ` Q6` columns\n",
    ">- tip : Q6 has all kinds of chocolate bars and questions with three distinct options to choose from (Joy, Meh, Despair).\n",
    "- so all the column that has Q6 is a candy name , so you should go through all these column and you should choose which best value to put in place of these NaNs ( mode, unknown,other ....etc)"
   ]
  },
  {
   "cell_type": "code",
   "execution_count": 54,
   "metadata": {},
   "outputs": [
    {
     "name": "stdout",
     "output_type": "stream",
     "text": [
      "Any NaNs left in Q6 columns: 0.0\n"
     ]
    }
   ],
   "source": [
    "q6_candies = [col for col in df.columns if col.startswith('Q6')]\n",
    "\n",
    "df[q6_candies] = df[q6_candies].fillna('Unknown')\n",
    "\n",
    "print(\"Any NaNs left in Q6 columns:\", df[q6_candies].isnull().sum().sum())  # يجب تكون 0\n",
    "\n",
    "for col in q6_candies[:100]: \n",
    "    print(f\"{col} unique values: {df[col].unique()}\")\n"
   ]
  },
  {
   "cell_type": "markdown",
   "metadata": {},
   "source": [
    "### 11 - clean ` dress` column\n",
    ">tip : you should choose which best value to put in place of these NaNs ( mode, unknown,other ....etc)"
   ]
  },
  {
   "cell_type": "code",
   "execution_count": 56,
   "metadata": {},
   "outputs": [
    {
     "name": "stdout",
     "output_type": "stream",
     "text": [
      "Unique values before cleaning: ['White and gold' 'Blue and black']\n",
      "Missing values after cleaning: 0\n",
      "Unique values after cleaning: ['White and gold' 'Blue and black']\n"
     ]
    },
    {
     "name": "stderr",
     "output_type": "stream",
     "text": [
      "C:\\Users\\user\\AppData\\Local\\Temp\\ipykernel_2308\\3803573389.py:6: SettingWithCopyWarning: \n",
      "A value is trying to be set on a copy of a slice from a DataFrame.\n",
      "Try using .loc[row_indexer,col_indexer] = value instead\n",
      "\n",
      "See the caveats in the documentation: https://pandas.pydata.org/pandas-docs/stable/user_guide/indexing.html#returning-a-view-versus-a-copy\n",
      "  df['Q10: DRESS'] = df['Q10: DRESS'].fillna(dress_mode)\n"
     ]
    }
   ],
   "source": [
    "print(\"Unique values before cleaning:\", df['Q10: DRESS'].unique())\n",
    "\n",
    "\n",
    "dress_mode = df['Q10: DRESS'].mode()[0]\n",
    "\n",
    "df['Q10: DRESS'] = df['Q10: DRESS'].fillna(dress_mode)\n",
    "\n",
    "print(\"Missing values after cleaning:\", df['Q10: DRESS'].isnull().sum())\n",
    "print(\"Unique values after cleaning:\", df['Q10: DRESS'].unique())\n"
   ]
  },
  {
   "cell_type": "markdown",
   "metadata": {},
   "source": [
    "### 12 - clean ` day` column\n",
    ">tip : you should choose which best value to put in place of these NaNs ( mode, unknown,other ....etc)"
   ]
  },
  {
   "cell_type": "code",
   "execution_count": 58,
   "metadata": {},
   "outputs": [
    {
     "name": "stdout",
     "output_type": "stream",
     "text": [
      "Unique values before cleaning: ['Sunday' 'Friday']\n",
      "Missing values after cleaning: 0\n",
      "Unique values after cleaning: ['Sunday' 'Friday']\n"
     ]
    },
    {
     "name": "stderr",
     "output_type": "stream",
     "text": [
      "C:\\Users\\user\\AppData\\Local\\Temp\\ipykernel_2308\\4065848978.py:5: SettingWithCopyWarning: \n",
      "A value is trying to be set on a copy of a slice from a DataFrame.\n",
      "Try using .loc[row_indexer,col_indexer] = value instead\n",
      "\n",
      "See the caveats in the documentation: https://pandas.pydata.org/pandas-docs/stable/user_guide/indexing.html#returning-a-view-versus-a-copy\n",
      "  df['Q11: DAY'] = df['Q11: DAY'].fillna(day_mode)\n"
     ]
    }
   ],
   "source": [
    "print(\"Unique values before cleaning:\", df['Q11: DAY'].unique())\n",
    "\n",
    "day_mode = df['Q11: DAY'].mode()[0]\n",
    "\n",
    "df['Q11: DAY'] = df['Q11: DAY'].fillna(day_mode)\n",
    "\n",
    "print(\"Missing values after cleaning:\", df['Q11: DAY'].isnull().sum())\n",
    "print(\"Unique values after cleaning:\", df['Q11: DAY'].unique())\n"
   ]
  },
  {
   "cell_type": "markdown",
   "metadata": {},
   "source": [
    "### 13 - check\n",
    "> after finish cleaning you should make sure your data is clean and that :\n",
    "- there is no wrong data type\n",
    "- there is no NaN values \n",
    "- all the column are cleaing and ready for the next step `EDA`"
   ]
  },
  {
   "cell_type": "code",
   "execution_count": 60,
   "metadata": {},
   "outputs": [
    {
     "name": "stdout",
     "output_type": "stream",
     "text": [
      "Checking for missing values:\n",
      "Series([], dtype: int64)\n",
      "\n",
      "Checking data types:\n",
      "Q1: GOING OUT?                       object\n",
      "Q2: GENDER                           object\n",
      "Q3: AGE                             float64\n",
      "Q4: COUNTRY                          object\n",
      "Q5: STATE, PROVINCE, COUNTY, ETC     object\n",
      "Q10: DRESS                           object\n",
      "Q11: DAY                             object\n",
      "dtype: object\n",
      "\n",
      "Summary of dataset:\n",
      "<class 'pandas.core.frame.DataFrame'>\n",
      "Index: 2347 entries, 1 to 2459\n",
      "Data columns (total 7 columns):\n",
      " #   Column                            Non-Null Count  Dtype  \n",
      "---  ------                            --------------  -----  \n",
      " 0   Q1: GOING OUT?                    2347 non-null   object \n",
      " 1   Q2: GENDER                        2347 non-null   object \n",
      " 2   Q3: AGE                           2347 non-null   float64\n",
      " 3   Q4: COUNTRY                       2347 non-null   object \n",
      " 4   Q5: STATE, PROVINCE, COUNTY, ETC  2347 non-null   object \n",
      " 5   Q10: DRESS                        2347 non-null   object \n",
      " 6   Q11: DAY                          2347 non-null   object \n",
      "dtypes: float64(1), object(6)\n",
      "memory usage: 146.7+ KB\n",
      "None\n",
      "\n",
      "Dataset Shape: (2347, 7)\n"
     ]
    }
   ],
   "source": [
    "print(\"Checking for missing values:\")\n",
    "missing = df.isnull().sum()\n",
    "print(missing[missing > 0]) \n",
    "\n",
    "print(\"\\nChecking data types:\")\n",
    "print(df.dtypes)\n",
    "\n",
    "print(\"\\nSummary of dataset:\")\n",
    "print(df.info())\n",
    "\n",
    "print(\"\\nDataset Shape:\", df.shape)\n"
   ]
  },
  {
   "cell_type": "markdown",
   "metadata": {},
   "source": [
    "### 14 - write a summary about all the cleaning steps "
   ]
  },
  {
   "cell_type": "markdown",
   "metadata": {},
   "source": [
    "\n",
    "1. **Import packages and load dataset**\n",
    "2. **Explore general properties and detect issues**\n",
    "3. **Drop useless columns and rows with excessive NaNs**\n",
    "4. **Rename columns for easier access**\n",
    "5. **Clean `Going Out` column** → fill NaNs with `\"Unknown\"`\n",
    "6. **Clean `Gender` column** → fix types and fill NaNs with `\"Prefer not to say\"`\n",
    "7. **Clean `Age` column** → convert to numeric, remove out-of-range values, fill NaNs with **median**\n",
    "8. **Clean `Country` column** → unify format using `fuzzywuzzy`, fill NaNs with `\"unknown\"`\n",
    "9. **Clean `State` column** → simplify and group uncommon entries as `\"Other\"` or `\"Unknown\"`\n",
    "10. **Clean `Q6:` candy rating columns** → fill NaNs with `\"Unknown\"`\n",
    "11. **Clean `Dress` column** → fill NaNs with **mode**\n",
    "12. **Clean `Day` column** → fill NaNs with **mode**"
   ]
  }
 ],
 "metadata": {
  "kernelspec": {
   "display_name": "Python 3 (ipykernel)",
   "language": "python",
   "name": "python3"
  },
  "language_info": {
   "codemirror_mode": {
    "name": "ipython",
    "version": 3
   },
   "file_extension": ".py",
   "mimetype": "text/x-python",
   "name": "python",
   "nbconvert_exporter": "python",
   "pygments_lexer": "ipython3",
   "version": "3.12.7"
  }
 },
 "nbformat": 4,
 "nbformat_minor": 4
}
