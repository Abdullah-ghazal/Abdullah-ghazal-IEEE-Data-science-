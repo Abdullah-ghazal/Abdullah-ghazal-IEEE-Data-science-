{
 "cells": [
  {
   "cell_type": "markdown",
   "metadata": {
    "id": "MwzekJmUstWR"
   },
   "source": [
    "## <a href='https://www.kaggle.com/datasets/brendan45774/test-file'> **Titanic Dataset**"
   ]
  },
  {
   "cell_type": "markdown",
   "metadata": {
    "id": "J9w8gwXystWT"
   },
   "source": [
    "### Import the required libraries (Pandas, NumPy)"
   ]
  },
  {
   "cell_type": "code",
   "execution_count": 6,
   "metadata": {
    "id": "gQXCDx8jstWU"
   },
   "outputs": [],
   "source": [
    "import numpy as np\n",
    "import pandas as pd"
   ]
  },
  {
   "cell_type": "markdown",
   "metadata": {
    "id": "9yC8A2e9stWW"
   },
   "source": [
    "### Import data"
   ]
  },
  {
   "cell_type": "code",
   "execution_count": 39,
   "metadata": {
    "id": "jVfFyNdastWY"
   },
   "outputs": [],
   "source": [
    "df = pd.read_csv('tested.csv')"
   ]
  },
  {
   "cell_type": "markdown",
   "metadata": {
    "id": "saFSr_xrstWk"
   },
   "source": [
    "### What's the shape of the data?"
   ]
  },
  {
   "cell_type": "code",
   "execution_count": 41,
   "metadata": {
    "id": "U4sORYzNstWb"
   },
   "outputs": [
    {
     "name": "stdout",
     "output_type": "stream",
     "text": [
      "(418, 12)\n"
     ]
    }
   ],
   "source": [
    "print(df.shape)"
   ]
  },
  {
   "cell_type": "markdown",
   "metadata": {
    "id": "STEuWnM3stWZ"
   },
   "source": [
    "### What are the first 5 rows in data?"
   ]
  },
  {
   "cell_type": "code",
   "execution_count": 43,
   "metadata": {
    "id": "Zyyd3PzwMY1n"
   },
   "outputs": [
    {
     "name": "stdout",
     "output_type": "stream",
     "text": [
      "   PassengerId  Survived  Pclass  \\\n",
      "0          892         0       3   \n",
      "1          893         1       3   \n",
      "2          894         0       2   \n",
      "3          895         0       3   \n",
      "4          896         1       3   \n",
      "\n",
      "                                           Name     Sex   Age  SibSp  Parch  \\\n",
      "0                              Kelly, Mr. James    male  34.5      0      0   \n",
      "1              Wilkes, Mrs. James (Ellen Needs)  female  47.0      1      0   \n",
      "2                     Myles, Mr. Thomas Francis    male  62.0      0      0   \n",
      "3                              Wirz, Mr. Albert    male  27.0      0      0   \n",
      "4  Hirvonen, Mrs. Alexander (Helga E Lindqvist)  female  22.0      1      1   \n",
      "\n",
      "    Ticket     Fare Cabin Embarked  \n",
      "0   330911   7.8292   NaN        Q  \n",
      "1   363272   7.0000   NaN        S  \n",
      "2   240276   9.6875   NaN        Q  \n",
      "3   315154   8.6625   NaN        S  \n",
      "4  3101298  12.2875   NaN        S  \n"
     ]
    }
   ],
   "source": [
    "print(df.head())"
   ]
  },
  {
   "cell_type": "markdown",
   "metadata": {
    "id": "89iJQMmtstWc"
   },
   "source": [
    "### What are the last 5 rows in data?"
   ]
  },
  {
   "cell_type": "code",
   "execution_count": 45,
   "metadata": {
    "id": "YCkTFsQ-stWd"
   },
   "outputs": [
    {
     "name": "stdout",
     "output_type": "stream",
     "text": [
      "     PassengerId  Survived  Pclass                          Name     Sex  \\\n",
      "413         1305         0       3            Spector, Mr. Woolf    male   \n",
      "414         1306         1       1  Oliva y Ocana, Dona. Fermina  female   \n",
      "415         1307         0       3  Saether, Mr. Simon Sivertsen    male   \n",
      "416         1308         0       3           Ware, Mr. Frederick    male   \n",
      "417         1309         0       3      Peter, Master. Michael J    male   \n",
      "\n",
      "      Age  SibSp  Parch              Ticket      Fare Cabin Embarked  \n",
      "413   NaN      0      0           A.5. 3236    8.0500   NaN        S  \n",
      "414  39.0      0      0            PC 17758  108.9000  C105        C  \n",
      "415  38.5      0      0  SOTON/O.Q. 3101262    7.2500   NaN        S  \n",
      "416   NaN      0      0              359309    8.0500   NaN        S  \n",
      "417   NaN      1      1                2668   22.3583   NaN        C  \n"
     ]
    }
   ],
   "source": [
    "print(df.tail())"
   ]
  },
  {
   "cell_type": "markdown",
   "metadata": {
    "id": "JIG95vQBbvod"
   },
   "source": [
    "### What about any (random) 10 rows in data?"
   ]
  },
  {
   "cell_type": "code",
   "execution_count": 47,
   "metadata": {
    "id": "Gl7tpjehb7DD"
   },
   "outputs": [
    {
     "data": {
      "text/html": [
       "<div>\n",
       "<style scoped>\n",
       "    .dataframe tbody tr th:only-of-type {\n",
       "        vertical-align: middle;\n",
       "    }\n",
       "\n",
       "    .dataframe tbody tr th {\n",
       "        vertical-align: top;\n",
       "    }\n",
       "\n",
       "    .dataframe thead th {\n",
       "        text-align: right;\n",
       "    }\n",
       "</style>\n",
       "<table border=\"1\" class=\"dataframe\">\n",
       "  <thead>\n",
       "    <tr style=\"text-align: right;\">\n",
       "      <th></th>\n",
       "      <th>PassengerId</th>\n",
       "      <th>Survived</th>\n",
       "      <th>Pclass</th>\n",
       "      <th>Name</th>\n",
       "      <th>Sex</th>\n",
       "      <th>Age</th>\n",
       "      <th>SibSp</th>\n",
       "      <th>Parch</th>\n",
       "      <th>Ticket</th>\n",
       "      <th>Fare</th>\n",
       "      <th>Cabin</th>\n",
       "      <th>Embarked</th>\n",
       "    </tr>\n",
       "  </thead>\n",
       "  <tbody>\n",
       "    <tr>\n",
       "      <th>353</th>\n",
       "      <td>1245</td>\n",
       "      <td>0</td>\n",
       "      <td>2</td>\n",
       "      <td>Herman, Mr. Samuel</td>\n",
       "      <td>male</td>\n",
       "      <td>49.0</td>\n",
       "      <td>1</td>\n",
       "      <td>2</td>\n",
       "      <td>220845</td>\n",
       "      <td>65.0000</td>\n",
       "      <td>NaN</td>\n",
       "      <td>S</td>\n",
       "    </tr>\n",
       "    <tr>\n",
       "      <th>45</th>\n",
       "      <td>937</td>\n",
       "      <td>0</td>\n",
       "      <td>3</td>\n",
       "      <td>Peltomaki, Mr. Nikolai Johannes</td>\n",
       "      <td>male</td>\n",
       "      <td>25.0</td>\n",
       "      <td>0</td>\n",
       "      <td>0</td>\n",
       "      <td>STON/O 2. 3101291</td>\n",
       "      <td>7.9250</td>\n",
       "      <td>NaN</td>\n",
       "      <td>S</td>\n",
       "    </tr>\n",
       "    <tr>\n",
       "      <th>278</th>\n",
       "      <td>1170</td>\n",
       "      <td>0</td>\n",
       "      <td>2</td>\n",
       "      <td>Ware, Mr. John James</td>\n",
       "      <td>male</td>\n",
       "      <td>30.0</td>\n",
       "      <td>1</td>\n",
       "      <td>0</td>\n",
       "      <td>CA 31352</td>\n",
       "      <td>21.0000</td>\n",
       "      <td>NaN</td>\n",
       "      <td>S</td>\n",
       "    </tr>\n",
       "    <tr>\n",
       "      <th>313</th>\n",
       "      <td>1205</td>\n",
       "      <td>1</td>\n",
       "      <td>3</td>\n",
       "      <td>Carr, Miss. Jeannie</td>\n",
       "      <td>female</td>\n",
       "      <td>37.0</td>\n",
       "      <td>0</td>\n",
       "      <td>0</td>\n",
       "      <td>368364</td>\n",
       "      <td>7.7500</td>\n",
       "      <td>NaN</td>\n",
       "      <td>Q</td>\n",
       "    </tr>\n",
       "    <tr>\n",
       "      <th>204</th>\n",
       "      <td>1096</td>\n",
       "      <td>0</td>\n",
       "      <td>2</td>\n",
       "      <td>Andrew, Mr. Frank Thomas</td>\n",
       "      <td>male</td>\n",
       "      <td>25.0</td>\n",
       "      <td>0</td>\n",
       "      <td>0</td>\n",
       "      <td>C.A. 34050</td>\n",
       "      <td>10.5000</td>\n",
       "      <td>NaN</td>\n",
       "      <td>S</td>\n",
       "    </tr>\n",
       "    <tr>\n",
       "      <th>385</th>\n",
       "      <td>1277</td>\n",
       "      <td>1</td>\n",
       "      <td>2</td>\n",
       "      <td>Herman, Miss. Kate</td>\n",
       "      <td>female</td>\n",
       "      <td>24.0</td>\n",
       "      <td>1</td>\n",
       "      <td>2</td>\n",
       "      <td>220845</td>\n",
       "      <td>65.0000</td>\n",
       "      <td>NaN</td>\n",
       "      <td>S</td>\n",
       "    </tr>\n",
       "    <tr>\n",
       "      <th>74</th>\n",
       "      <td>966</td>\n",
       "      <td>1</td>\n",
       "      <td>1</td>\n",
       "      <td>Geiger, Miss. Amalie</td>\n",
       "      <td>female</td>\n",
       "      <td>35.0</td>\n",
       "      <td>0</td>\n",
       "      <td>0</td>\n",
       "      <td>113503</td>\n",
       "      <td>211.5000</td>\n",
       "      <td>C130</td>\n",
       "      <td>C</td>\n",
       "    </tr>\n",
       "    <tr>\n",
       "      <th>160</th>\n",
       "      <td>1052</td>\n",
       "      <td>1</td>\n",
       "      <td>3</td>\n",
       "      <td>Smyth, Miss. Julia</td>\n",
       "      <td>female</td>\n",
       "      <td>NaN</td>\n",
       "      <td>0</td>\n",
       "      <td>0</td>\n",
       "      <td>335432</td>\n",
       "      <td>7.7333</td>\n",
       "      <td>NaN</td>\n",
       "      <td>Q</td>\n",
       "    </tr>\n",
       "    <tr>\n",
       "      <th>263</th>\n",
       "      <td>1155</td>\n",
       "      <td>1</td>\n",
       "      <td>3</td>\n",
       "      <td>Klasen, Miss. Gertrud Emilia</td>\n",
       "      <td>female</td>\n",
       "      <td>1.0</td>\n",
       "      <td>1</td>\n",
       "      <td>1</td>\n",
       "      <td>350405</td>\n",
       "      <td>12.1833</td>\n",
       "      <td>NaN</td>\n",
       "      <td>S</td>\n",
       "    </tr>\n",
       "    <tr>\n",
       "      <th>155</th>\n",
       "      <td>1047</td>\n",
       "      <td>0</td>\n",
       "      <td>3</td>\n",
       "      <td>Duquemin, Mr. Joseph</td>\n",
       "      <td>male</td>\n",
       "      <td>24.0</td>\n",
       "      <td>0</td>\n",
       "      <td>0</td>\n",
       "      <td>S.O./P.P. 752</td>\n",
       "      <td>7.5500</td>\n",
       "      <td>NaN</td>\n",
       "      <td>S</td>\n",
       "    </tr>\n",
       "  </tbody>\n",
       "</table>\n",
       "</div>"
      ],
      "text/plain": [
       "     PassengerId  Survived  Pclass                             Name     Sex  \\\n",
       "353         1245         0       2               Herman, Mr. Samuel    male   \n",
       "45           937         0       3  Peltomaki, Mr. Nikolai Johannes    male   \n",
       "278         1170         0       2             Ware, Mr. John James    male   \n",
       "313         1205         1       3              Carr, Miss. Jeannie  female   \n",
       "204         1096         0       2         Andrew, Mr. Frank Thomas    male   \n",
       "385         1277         1       2               Herman, Miss. Kate  female   \n",
       "74           966         1       1             Geiger, Miss. Amalie  female   \n",
       "160         1052         1       3               Smyth, Miss. Julia  female   \n",
       "263         1155         1       3     Klasen, Miss. Gertrud Emilia  female   \n",
       "155         1047         0       3             Duquemin, Mr. Joseph    male   \n",
       "\n",
       "      Age  SibSp  Parch             Ticket      Fare Cabin Embarked  \n",
       "353  49.0      1      2             220845   65.0000   NaN        S  \n",
       "45   25.0      0      0  STON/O 2. 3101291    7.9250   NaN        S  \n",
       "278  30.0      1      0           CA 31352   21.0000   NaN        S  \n",
       "313  37.0      0      0             368364    7.7500   NaN        Q  \n",
       "204  25.0      0      0         C.A. 34050   10.5000   NaN        S  \n",
       "385  24.0      1      2             220845   65.0000   NaN        S  \n",
       "74   35.0      0      0             113503  211.5000  C130        C  \n",
       "160   NaN      0      0             335432    7.7333   NaN        Q  \n",
       "263   1.0      1      1             350405   12.1833   NaN        S  \n",
       "155  24.0      0      0      S.O./P.P. 752    7.5500   NaN        S  "
      ]
     },
     "execution_count": 47,
     "metadata": {},
     "output_type": "execute_result"
    }
   ],
   "source": [
    "df.sample(10)"
   ]
  },
  {
   "cell_type": "markdown",
   "metadata": {
    "id": "5F0n3DasstWe"
   },
   "source": [
    "### Information about the data:"
   ]
  },
  {
   "cell_type": "code",
   "execution_count": 49,
   "metadata": {
    "id": "IazyNwlzstWg"
   },
   "outputs": [
    {
     "name": "stdout",
     "output_type": "stream",
     "text": [
      "<class 'pandas.core.frame.DataFrame'>\n",
      "RangeIndex: 418 entries, 0 to 417\n",
      "Data columns (total 12 columns):\n",
      " #   Column       Non-Null Count  Dtype  \n",
      "---  ------       --------------  -----  \n",
      " 0   PassengerId  418 non-null    int64  \n",
      " 1   Survived     418 non-null    int64  \n",
      " 2   Pclass       418 non-null    int64  \n",
      " 3   Name         418 non-null    object \n",
      " 4   Sex          418 non-null    object \n",
      " 5   Age          332 non-null    float64\n",
      " 6   SibSp        418 non-null    int64  \n",
      " 7   Parch        418 non-null    int64  \n",
      " 8   Ticket       418 non-null    object \n",
      " 9   Fare         417 non-null    float64\n",
      " 10  Cabin        91 non-null     object \n",
      " 11  Embarked     418 non-null    object \n",
      "dtypes: float64(2), int64(5), object(5)\n",
      "memory usage: 39.3+ KB\n"
     ]
    }
   ],
   "source": [
    "df.info()"
   ]
  },
  {
   "cell_type": "markdown",
   "metadata": {
    "id": "sEtZ5CPIMxtp"
   },
   "source": [
    "### Statistical summary of the **numerical** columns:"
   ]
  },
  {
   "cell_type": "code",
   "execution_count": 51,
   "metadata": {
    "id": "NVXEwZBhstWi"
   },
   "outputs": [
    {
     "data": {
      "text/html": [
       "<div>\n",
       "<style scoped>\n",
       "    .dataframe tbody tr th:only-of-type {\n",
       "        vertical-align: middle;\n",
       "    }\n",
       "\n",
       "    .dataframe tbody tr th {\n",
       "        vertical-align: top;\n",
       "    }\n",
       "\n",
       "    .dataframe thead th {\n",
       "        text-align: right;\n",
       "    }\n",
       "</style>\n",
       "<table border=\"1\" class=\"dataframe\">\n",
       "  <thead>\n",
       "    <tr style=\"text-align: right;\">\n",
       "      <th></th>\n",
       "      <th>PassengerId</th>\n",
       "      <th>Survived</th>\n",
       "      <th>Pclass</th>\n",
       "      <th>Age</th>\n",
       "      <th>SibSp</th>\n",
       "      <th>Parch</th>\n",
       "      <th>Fare</th>\n",
       "    </tr>\n",
       "  </thead>\n",
       "  <tbody>\n",
       "    <tr>\n",
       "      <th>count</th>\n",
       "      <td>418.000000</td>\n",
       "      <td>418.000000</td>\n",
       "      <td>418.000000</td>\n",
       "      <td>332.000000</td>\n",
       "      <td>418.000000</td>\n",
       "      <td>418.000000</td>\n",
       "      <td>417.000000</td>\n",
       "    </tr>\n",
       "    <tr>\n",
       "      <th>mean</th>\n",
       "      <td>1100.500000</td>\n",
       "      <td>0.363636</td>\n",
       "      <td>2.265550</td>\n",
       "      <td>30.272590</td>\n",
       "      <td>0.447368</td>\n",
       "      <td>0.392344</td>\n",
       "      <td>35.627188</td>\n",
       "    </tr>\n",
       "    <tr>\n",
       "      <th>std</th>\n",
       "      <td>120.810458</td>\n",
       "      <td>0.481622</td>\n",
       "      <td>0.841838</td>\n",
       "      <td>14.181209</td>\n",
       "      <td>0.896760</td>\n",
       "      <td>0.981429</td>\n",
       "      <td>55.907576</td>\n",
       "    </tr>\n",
       "    <tr>\n",
       "      <th>min</th>\n",
       "      <td>892.000000</td>\n",
       "      <td>0.000000</td>\n",
       "      <td>1.000000</td>\n",
       "      <td>0.170000</td>\n",
       "      <td>0.000000</td>\n",
       "      <td>0.000000</td>\n",
       "      <td>0.000000</td>\n",
       "    </tr>\n",
       "    <tr>\n",
       "      <th>25%</th>\n",
       "      <td>996.250000</td>\n",
       "      <td>0.000000</td>\n",
       "      <td>1.000000</td>\n",
       "      <td>21.000000</td>\n",
       "      <td>0.000000</td>\n",
       "      <td>0.000000</td>\n",
       "      <td>7.895800</td>\n",
       "    </tr>\n",
       "    <tr>\n",
       "      <th>50%</th>\n",
       "      <td>1100.500000</td>\n",
       "      <td>0.000000</td>\n",
       "      <td>3.000000</td>\n",
       "      <td>27.000000</td>\n",
       "      <td>0.000000</td>\n",
       "      <td>0.000000</td>\n",
       "      <td>14.454200</td>\n",
       "    </tr>\n",
       "    <tr>\n",
       "      <th>75%</th>\n",
       "      <td>1204.750000</td>\n",
       "      <td>1.000000</td>\n",
       "      <td>3.000000</td>\n",
       "      <td>39.000000</td>\n",
       "      <td>1.000000</td>\n",
       "      <td>0.000000</td>\n",
       "      <td>31.500000</td>\n",
       "    </tr>\n",
       "    <tr>\n",
       "      <th>max</th>\n",
       "      <td>1309.000000</td>\n",
       "      <td>1.000000</td>\n",
       "      <td>3.000000</td>\n",
       "      <td>76.000000</td>\n",
       "      <td>8.000000</td>\n",
       "      <td>9.000000</td>\n",
       "      <td>512.329200</td>\n",
       "    </tr>\n",
       "  </tbody>\n",
       "</table>\n",
       "</div>"
      ],
      "text/plain": [
       "       PassengerId    Survived      Pclass         Age       SibSp  \\\n",
       "count   418.000000  418.000000  418.000000  332.000000  418.000000   \n",
       "mean   1100.500000    0.363636    2.265550   30.272590    0.447368   \n",
       "std     120.810458    0.481622    0.841838   14.181209    0.896760   \n",
       "min     892.000000    0.000000    1.000000    0.170000    0.000000   \n",
       "25%     996.250000    0.000000    1.000000   21.000000    0.000000   \n",
       "50%    1100.500000    0.000000    3.000000   27.000000    0.000000   \n",
       "75%    1204.750000    1.000000    3.000000   39.000000    1.000000   \n",
       "max    1309.000000    1.000000    3.000000   76.000000    8.000000   \n",
       "\n",
       "            Parch        Fare  \n",
       "count  418.000000  417.000000  \n",
       "mean     0.392344   35.627188  \n",
       "std      0.981429   55.907576  \n",
       "min      0.000000    0.000000  \n",
       "25%      0.000000    7.895800  \n",
       "50%      0.000000   14.454200  \n",
       "75%      0.000000   31.500000  \n",
       "max      9.000000  512.329200  "
      ]
     },
     "execution_count": 51,
     "metadata": {},
     "output_type": "execute_result"
    }
   ],
   "source": [
    "df.describe()"
   ]
  },
  {
   "cell_type": "markdown",
   "metadata": {
    "id": "H4HS-4WKcJWN"
   },
   "source": [
    "### Statistical summary of the **categorical** columns:"
   ]
  },
  {
   "cell_type": "code",
   "execution_count": 53,
   "metadata": {
    "id": "YpJrwW90cNj7"
   },
   "outputs": [
    {
     "data": {
      "text/html": [
       "<div>\n",
       "<style scoped>\n",
       "    .dataframe tbody tr th:only-of-type {\n",
       "        vertical-align: middle;\n",
       "    }\n",
       "\n",
       "    .dataframe tbody tr th {\n",
       "        vertical-align: top;\n",
       "    }\n",
       "\n",
       "    .dataframe thead th {\n",
       "        text-align: right;\n",
       "    }\n",
       "</style>\n",
       "<table border=\"1\" class=\"dataframe\">\n",
       "  <thead>\n",
       "    <tr style=\"text-align: right;\">\n",
       "      <th></th>\n",
       "      <th>Name</th>\n",
       "      <th>Sex</th>\n",
       "      <th>Ticket</th>\n",
       "      <th>Cabin</th>\n",
       "      <th>Embarked</th>\n",
       "    </tr>\n",
       "  </thead>\n",
       "  <tbody>\n",
       "    <tr>\n",
       "      <th>count</th>\n",
       "      <td>418</td>\n",
       "      <td>418</td>\n",
       "      <td>418</td>\n",
       "      <td>91</td>\n",
       "      <td>418</td>\n",
       "    </tr>\n",
       "    <tr>\n",
       "      <th>unique</th>\n",
       "      <td>418</td>\n",
       "      <td>2</td>\n",
       "      <td>363</td>\n",
       "      <td>76</td>\n",
       "      <td>3</td>\n",
       "    </tr>\n",
       "    <tr>\n",
       "      <th>top</th>\n",
       "      <td>Kelly, Mr. James</td>\n",
       "      <td>male</td>\n",
       "      <td>PC 17608</td>\n",
       "      <td>B57 B59 B63 B66</td>\n",
       "      <td>S</td>\n",
       "    </tr>\n",
       "    <tr>\n",
       "      <th>freq</th>\n",
       "      <td>1</td>\n",
       "      <td>266</td>\n",
       "      <td>5</td>\n",
       "      <td>3</td>\n",
       "      <td>270</td>\n",
       "    </tr>\n",
       "  </tbody>\n",
       "</table>\n",
       "</div>"
      ],
      "text/plain": [
       "                    Name   Sex    Ticket            Cabin Embarked\n",
       "count                418   418       418               91      418\n",
       "unique               418     2       363               76        3\n",
       "top     Kelly, Mr. James  male  PC 17608  B57 B59 B63 B66        S\n",
       "freq                   1   266         5                3      270"
      ]
     },
     "execution_count": 53,
     "metadata": {},
     "output_type": "execute_result"
    }
   ],
   "source": [
    "df.select_dtypes(include=['object', 'category']).describe()"
   ]
  },
  {
   "cell_type": "markdown",
   "metadata": {
    "id": "qHdB-ghCstWo"
   },
   "source": [
    "### Check if the data contain duplicated values or not, **and if it does**, remove them."
   ]
  },
  {
   "cell_type": "code",
   "execution_count": 57,
   "metadata": {
    "id": "J3jdZ7_DstWj"
   },
   "outputs": [
    {
     "data": {
      "text/plain": [
       "0"
      ]
     },
     "execution_count": 57,
     "metadata": {},
     "output_type": "execute_result"
    }
   ],
   "source": [
    "df.duplicated().sum()\n",
    "## there is no duplicates"
   ]
  },
  {
   "cell_type": "markdown",
   "metadata": {
    "id": "sxnc0LKTNGAG"
   },
   "source": [
    "### Remove any useless column; like the `PassengerId` column:"
   ]
  },
  {
   "cell_type": "code",
   "execution_count": 79,
   "metadata": {
    "id": "GuWac2M8stWk"
   },
   "outputs": [
    {
     "ename": "KeyError",
     "evalue": "\"['PassengerId'] not found in axis\"",
     "output_type": "error",
     "traceback": [
      "\u001b[1;31m---------------------------------------------------------------------------\u001b[0m",
      "\u001b[1;31mKeyError\u001b[0m                                  Traceback (most recent call last)",
      "Cell \u001b[1;32mIn[79], line 1\u001b[0m\n\u001b[1;32m----> 1\u001b[0m df \u001b[38;5;241m=\u001b[39m \u001b[43mdf\u001b[49m\u001b[38;5;241;43m.\u001b[39;49m\u001b[43mdrop\u001b[49m\u001b[43m(\u001b[49m\u001b[38;5;124;43m'\u001b[39;49m\u001b[38;5;124;43mPassengerId\u001b[39;49m\u001b[38;5;124;43m'\u001b[39;49m\u001b[43m,\u001b[49m\u001b[43m \u001b[49m\u001b[43maxis\u001b[49m\u001b[38;5;241;43m=\u001b[39;49m\u001b[38;5;241;43m1\u001b[39;49m\u001b[43m)\u001b[49m\n",
      "File \u001b[1;32m~\\anaconda3\\Lib\\site-packages\\pandas\\core\\frame.py:5581\u001b[0m, in \u001b[0;36mDataFrame.drop\u001b[1;34m(self, labels, axis, index, columns, level, inplace, errors)\u001b[0m\n\u001b[0;32m   5433\u001b[0m \u001b[38;5;28;01mdef\u001b[39;00m \u001b[38;5;21mdrop\u001b[39m(\n\u001b[0;32m   5434\u001b[0m     \u001b[38;5;28mself\u001b[39m,\n\u001b[0;32m   5435\u001b[0m     labels: IndexLabel \u001b[38;5;241m|\u001b[39m \u001b[38;5;28;01mNone\u001b[39;00m \u001b[38;5;241m=\u001b[39m \u001b[38;5;28;01mNone\u001b[39;00m,\n\u001b[1;32m   (...)\u001b[0m\n\u001b[0;32m   5442\u001b[0m     errors: IgnoreRaise \u001b[38;5;241m=\u001b[39m \u001b[38;5;124m\"\u001b[39m\u001b[38;5;124mraise\u001b[39m\u001b[38;5;124m\"\u001b[39m,\n\u001b[0;32m   5443\u001b[0m ) \u001b[38;5;241m-\u001b[39m\u001b[38;5;241m>\u001b[39m DataFrame \u001b[38;5;241m|\u001b[39m \u001b[38;5;28;01mNone\u001b[39;00m:\n\u001b[0;32m   5444\u001b[0m \u001b[38;5;250m    \u001b[39m\u001b[38;5;124;03m\"\"\"\u001b[39;00m\n\u001b[0;32m   5445\u001b[0m \u001b[38;5;124;03m    Drop specified labels from rows or columns.\u001b[39;00m\n\u001b[0;32m   5446\u001b[0m \n\u001b[1;32m   (...)\u001b[0m\n\u001b[0;32m   5579\u001b[0m \u001b[38;5;124;03m            weight  1.0     0.8\u001b[39;00m\n\u001b[0;32m   5580\u001b[0m \u001b[38;5;124;03m    \"\"\"\u001b[39;00m\n\u001b[1;32m-> 5581\u001b[0m     \u001b[38;5;28;01mreturn\u001b[39;00m \u001b[38;5;28;43msuper\u001b[39;49m\u001b[43m(\u001b[49m\u001b[43m)\u001b[49m\u001b[38;5;241;43m.\u001b[39;49m\u001b[43mdrop\u001b[49m\u001b[43m(\u001b[49m\n\u001b[0;32m   5582\u001b[0m \u001b[43m        \u001b[49m\u001b[43mlabels\u001b[49m\u001b[38;5;241;43m=\u001b[39;49m\u001b[43mlabels\u001b[49m\u001b[43m,\u001b[49m\n\u001b[0;32m   5583\u001b[0m \u001b[43m        \u001b[49m\u001b[43maxis\u001b[49m\u001b[38;5;241;43m=\u001b[39;49m\u001b[43maxis\u001b[49m\u001b[43m,\u001b[49m\n\u001b[0;32m   5584\u001b[0m \u001b[43m        \u001b[49m\u001b[43mindex\u001b[49m\u001b[38;5;241;43m=\u001b[39;49m\u001b[43mindex\u001b[49m\u001b[43m,\u001b[49m\n\u001b[0;32m   5585\u001b[0m \u001b[43m        \u001b[49m\u001b[43mcolumns\u001b[49m\u001b[38;5;241;43m=\u001b[39;49m\u001b[43mcolumns\u001b[49m\u001b[43m,\u001b[49m\n\u001b[0;32m   5586\u001b[0m \u001b[43m        \u001b[49m\u001b[43mlevel\u001b[49m\u001b[38;5;241;43m=\u001b[39;49m\u001b[43mlevel\u001b[49m\u001b[43m,\u001b[49m\n\u001b[0;32m   5587\u001b[0m \u001b[43m        \u001b[49m\u001b[43minplace\u001b[49m\u001b[38;5;241;43m=\u001b[39;49m\u001b[43minplace\u001b[49m\u001b[43m,\u001b[49m\n\u001b[0;32m   5588\u001b[0m \u001b[43m        \u001b[49m\u001b[43merrors\u001b[49m\u001b[38;5;241;43m=\u001b[39;49m\u001b[43merrors\u001b[49m\u001b[43m,\u001b[49m\n\u001b[0;32m   5589\u001b[0m \u001b[43m    \u001b[49m\u001b[43m)\u001b[49m\n",
      "File \u001b[1;32m~\\anaconda3\\Lib\\site-packages\\pandas\\core\\generic.py:4788\u001b[0m, in \u001b[0;36mNDFrame.drop\u001b[1;34m(self, labels, axis, index, columns, level, inplace, errors)\u001b[0m\n\u001b[0;32m   4786\u001b[0m \u001b[38;5;28;01mfor\u001b[39;00m axis, labels \u001b[38;5;129;01min\u001b[39;00m axes\u001b[38;5;241m.\u001b[39mitems():\n\u001b[0;32m   4787\u001b[0m     \u001b[38;5;28;01mif\u001b[39;00m labels \u001b[38;5;129;01mis\u001b[39;00m \u001b[38;5;129;01mnot\u001b[39;00m \u001b[38;5;28;01mNone\u001b[39;00m:\n\u001b[1;32m-> 4788\u001b[0m         obj \u001b[38;5;241m=\u001b[39m \u001b[43mobj\u001b[49m\u001b[38;5;241;43m.\u001b[39;49m\u001b[43m_drop_axis\u001b[49m\u001b[43m(\u001b[49m\u001b[43mlabels\u001b[49m\u001b[43m,\u001b[49m\u001b[43m \u001b[49m\u001b[43maxis\u001b[49m\u001b[43m,\u001b[49m\u001b[43m \u001b[49m\u001b[43mlevel\u001b[49m\u001b[38;5;241;43m=\u001b[39;49m\u001b[43mlevel\u001b[49m\u001b[43m,\u001b[49m\u001b[43m \u001b[49m\u001b[43merrors\u001b[49m\u001b[38;5;241;43m=\u001b[39;49m\u001b[43merrors\u001b[49m\u001b[43m)\u001b[49m\n\u001b[0;32m   4790\u001b[0m \u001b[38;5;28;01mif\u001b[39;00m inplace:\n\u001b[0;32m   4791\u001b[0m     \u001b[38;5;28mself\u001b[39m\u001b[38;5;241m.\u001b[39m_update_inplace(obj)\n",
      "File \u001b[1;32m~\\anaconda3\\Lib\\site-packages\\pandas\\core\\generic.py:4830\u001b[0m, in \u001b[0;36mNDFrame._drop_axis\u001b[1;34m(self, labels, axis, level, errors, only_slice)\u001b[0m\n\u001b[0;32m   4828\u001b[0m         new_axis \u001b[38;5;241m=\u001b[39m axis\u001b[38;5;241m.\u001b[39mdrop(labels, level\u001b[38;5;241m=\u001b[39mlevel, errors\u001b[38;5;241m=\u001b[39merrors)\n\u001b[0;32m   4829\u001b[0m     \u001b[38;5;28;01melse\u001b[39;00m:\n\u001b[1;32m-> 4830\u001b[0m         new_axis \u001b[38;5;241m=\u001b[39m \u001b[43maxis\u001b[49m\u001b[38;5;241;43m.\u001b[39;49m\u001b[43mdrop\u001b[49m\u001b[43m(\u001b[49m\u001b[43mlabels\u001b[49m\u001b[43m,\u001b[49m\u001b[43m \u001b[49m\u001b[43merrors\u001b[49m\u001b[38;5;241;43m=\u001b[39;49m\u001b[43merrors\u001b[49m\u001b[43m)\u001b[49m\n\u001b[0;32m   4831\u001b[0m     indexer \u001b[38;5;241m=\u001b[39m axis\u001b[38;5;241m.\u001b[39mget_indexer(new_axis)\n\u001b[0;32m   4833\u001b[0m \u001b[38;5;66;03m# Case for non-unique axis\u001b[39;00m\n\u001b[0;32m   4834\u001b[0m \u001b[38;5;28;01melse\u001b[39;00m:\n",
      "File \u001b[1;32m~\\anaconda3\\Lib\\site-packages\\pandas\\core\\indexes\\base.py:7070\u001b[0m, in \u001b[0;36mIndex.drop\u001b[1;34m(self, labels, errors)\u001b[0m\n\u001b[0;32m   7068\u001b[0m \u001b[38;5;28;01mif\u001b[39;00m mask\u001b[38;5;241m.\u001b[39many():\n\u001b[0;32m   7069\u001b[0m     \u001b[38;5;28;01mif\u001b[39;00m errors \u001b[38;5;241m!=\u001b[39m \u001b[38;5;124m\"\u001b[39m\u001b[38;5;124mignore\u001b[39m\u001b[38;5;124m\"\u001b[39m:\n\u001b[1;32m-> 7070\u001b[0m         \u001b[38;5;28;01mraise\u001b[39;00m \u001b[38;5;167;01mKeyError\u001b[39;00m(\u001b[38;5;124mf\u001b[39m\u001b[38;5;124m\"\u001b[39m\u001b[38;5;132;01m{\u001b[39;00mlabels[mask]\u001b[38;5;241m.\u001b[39mtolist()\u001b[38;5;132;01m}\u001b[39;00m\u001b[38;5;124m not found in axis\u001b[39m\u001b[38;5;124m\"\u001b[39m)\n\u001b[0;32m   7071\u001b[0m     indexer \u001b[38;5;241m=\u001b[39m indexer[\u001b[38;5;241m~\u001b[39mmask]\n\u001b[0;32m   7072\u001b[0m \u001b[38;5;28;01mreturn\u001b[39;00m \u001b[38;5;28mself\u001b[39m\u001b[38;5;241m.\u001b[39mdelete(indexer)\n",
      "\u001b[1;31mKeyError\u001b[0m: \"['PassengerId'] not found in axis\""
     ]
    }
   ],
   "source": [
    "df = df.drop('PassengerId', axis=1)"
   ]
  },
  {
   "cell_type": "markdown",
   "metadata": {
    "id": "o4SCvECsstWn"
   },
   "source": [
    "### How many missing values in each column in the data?"
   ]
  },
  {
   "cell_type": "code",
   "execution_count": 92,
   "metadata": {
    "id": "HVtYmikRstWm"
   },
   "outputs": [
    {
     "name": "stdout",
     "output_type": "stream",
     "text": [
      "Survived      0\n",
      "Pclass        0\n",
      "Name          0\n",
      "Sex           0\n",
      "Age          86\n",
      "SibSp         0\n",
      "Parch         0\n",
      "Ticket        0\n",
      "Fare          1\n",
      "Cabin       327\n",
      "Embarked      0\n",
      "dtype: int64\n"
     ]
    }
   ],
   "source": [
    "missing_value = df.isnull().sum()\n",
    "print(missing_value)"
   ]
  },
  {
   "cell_type": "markdown",
   "metadata": {
    "id": "9dYK4QQndUfo"
   },
   "source": [
    "### Can you show them in **percentage**?"
   ]
  },
  {
   "cell_type": "code",
   "execution_count": 94,
   "metadata": {
    "id": "mqO0XZRPdauf"
   },
   "outputs": [
    {
     "name": "stdout",
     "output_type": "stream",
     "text": [
      "Survived     0.000000\n",
      "Pclass       0.000000\n",
      "Name         0.000000\n",
      "Sex          0.000000\n",
      "Age         20.574163\n",
      "SibSp        0.000000\n",
      "Parch        0.000000\n",
      "Ticket       0.000000\n",
      "Fare         0.239234\n",
      "Cabin       78.229665\n",
      "Embarked     0.000000\n",
      "dtype: float64\n"
     ]
    }
   ],
   "source": [
    "print((missing_value/len(df))*100)"
   ]
  },
  {
   "cell_type": "markdown",
   "metadata": {
    "id": "H7h8SanMNf5Q"
   },
   "source": [
    "### Remove the column with the **most** missing values:"
   ]
  },
  {
   "cell_type": "code",
   "execution_count": 106,
   "metadata": {
    "id": "NC4yQJlastWn"
   },
   "outputs": [
    {
     "name": "stdout",
     "output_type": "stream",
     "text": [
      "     Survived  Pclass                                          Name     Sex  \\\n",
      "0           0       3                              Kelly, Mr. James    male   \n",
      "1           1       3              Wilkes, Mrs. James (Ellen Needs)  female   \n",
      "2           0       2                     Myles, Mr. Thomas Francis    male   \n",
      "3           0       3                              Wirz, Mr. Albert    male   \n",
      "4           1       3  Hirvonen, Mrs. Alexander (Helga E Lindqvist)  female   \n",
      "..        ...     ...                                           ...     ...   \n",
      "413         0       3                            Spector, Mr. Woolf    male   \n",
      "414         1       1                  Oliva y Ocana, Dona. Fermina  female   \n",
      "415         0       3                  Saether, Mr. Simon Sivertsen    male   \n",
      "416         0       3                           Ware, Mr. Frederick    male   \n",
      "417         0       3                      Peter, Master. Michael J    male   \n",
      "\n",
      "      Age  SibSp  Parch              Ticket      Fare Embarked  \n",
      "0    34.5      0      0              330911    7.8292        Q  \n",
      "1    47.0      1      0              363272    7.0000        S  \n",
      "2    62.0      0      0              240276    9.6875        Q  \n",
      "3    27.0      0      0              315154    8.6625        S  \n",
      "4    22.0      1      1             3101298   12.2875        S  \n",
      "..    ...    ...    ...                 ...       ...      ...  \n",
      "413   NaN      0      0           A.5. 3236    8.0500        S  \n",
      "414  39.0      0      0            PC 17758  108.9000        C  \n",
      "415  38.5      0      0  SOTON/O.Q. 3101262    7.2500        S  \n",
      "416   NaN      0      0              359309    8.0500        S  \n",
      "417   NaN      1      1                2668   22.3583        C  \n",
      "\n",
      "[418 rows x 10 columns]\n"
     ]
    }
   ],
   "source": [
    "# using filter\n",
    "col_with_most_missing = missing_value[missing_value == missing_value.max()].index[0]\n",
    "df = df.drop(columns = [col_with_most_missing])"
   ]
  },
  {
   "cell_type": "markdown",
   "metadata": {
    "id": "0Bku64histWq"
   },
   "source": [
    "### Delete the row with the only missing value in `Fare` column:\n",
    "> Consider using boolean mask in your approach, **don't** just do `dropna()`"
   ]
  },
  {
   "cell_type": "code",
   "execution_count": 130,
   "metadata": {
    "id": "Vb-DM5QYstWo"
   },
   "outputs": [
    {
     "name": "stdout",
     "output_type": "stream",
     "text": [
      "     Survived  Pclass                                          Name     Sex  \\\n",
      "0           0       3                              Kelly, Mr. James    male   \n",
      "1           1       3              Wilkes, Mrs. James (Ellen Needs)  female   \n",
      "2           0       2                     Myles, Mr. Thomas Francis    male   \n",
      "3           0       3                              Wirz, Mr. Albert    male   \n",
      "4           1       3  Hirvonen, Mrs. Alexander (Helga E Lindqvist)  female   \n",
      "..        ...     ...                                           ...     ...   \n",
      "413         0       3                            Spector, Mr. Woolf    male   \n",
      "414         1       1                  Oliva y Ocana, Dona. Fermina  female   \n",
      "415         0       3                  Saether, Mr. Simon Sivertsen    male   \n",
      "416         0       3                           Ware, Mr. Frederick    male   \n",
      "417         0       3                      Peter, Master. Michael J    male   \n",
      "\n",
      "      Age  SibSp  Parch              Ticket      Fare Embarked  \n",
      "0    34.5      0      0              330911    7.8292        Q  \n",
      "1    47.0      1      0              363272    7.0000        S  \n",
      "2    62.0      0      0              240276    9.6875        Q  \n",
      "3    27.0      0      0              315154    8.6625        S  \n",
      "4    22.0      1      1             3101298   12.2875        S  \n",
      "..    ...    ...    ...                 ...       ...      ...  \n",
      "413   NaN      0      0           A.5. 3236    8.0500        S  \n",
      "414  39.0      0      0            PC 17758  108.9000        C  \n",
      "415  38.5      0      0  SOTON/O.Q. 3101262    7.2500        S  \n",
      "416   NaN      0      0              359309    8.0500        S  \n",
      "417   NaN      1      1                2668   22.3583        C  \n",
      "\n",
      "[417 rows x 10 columns]\n"
     ]
    }
   ],
   "source": [
    "mask = df['Fare'].isnull()\n",
    "df = df[~mask]\n",
    "print(df)"
   ]
  },
  {
   "cell_type": "markdown",
   "metadata": {
    "id": "G7IGxTh6Os9z"
   },
   "source": [
    "## Working with age column:"
   ]
  },
  {
   "cell_type": "markdown",
   "metadata": {
    "id": "1jwftmM7e-w6"
   },
   "source": [
    "### What's the **smallest** age value?"
   ]
  },
  {
   "cell_type": "code",
   "execution_count": 136,
   "metadata": {
    "id": "pXhzYUXBQvaL"
   },
   "outputs": [
    {
     "name": "stdout",
     "output_type": "stream",
     "text": [
      "0.17\n"
     ]
    }
   ],
   "source": [
    "print(df['Age'].min())"
   ]
  },
  {
   "cell_type": "markdown",
   "metadata": {
    "id": "jRMGqC23fObv"
   },
   "source": [
    "### What's the **largest** age value?"
   ]
  },
  {
   "cell_type": "code",
   "execution_count": null,
   "metadata": {
    "id": "CXpDrhuNRSHR"
   },
   "outputs": [],
   "source": [
    "#show age largest value:\n",
    "print(df['Age'].max())"
   ]
  },
  {
   "cell_type": "markdown",
   "metadata": {
    "id": "cFwOA6saRa2U"
   },
   "source": [
    "### Fill missing values of `Age` column with the column mean:"
   ]
  },
  {
   "cell_type": "code",
   "execution_count": 144,
   "metadata": {
    "id": "Ab3CNjjxRYr-"
   },
   "outputs": [
    {
     "name": "stdout",
     "output_type": "stream",
     "text": [
      "     Survived  Pclass                                          Name     Sex  \\\n",
      "0           0       3                              Kelly, Mr. James    male   \n",
      "1           1       3              Wilkes, Mrs. James (Ellen Needs)  female   \n",
      "2           0       2                     Myles, Mr. Thomas Francis    male   \n",
      "3           0       3                              Wirz, Mr. Albert    male   \n",
      "4           1       3  Hirvonen, Mrs. Alexander (Helga E Lindqvist)  female   \n",
      "..        ...     ...                                           ...     ...   \n",
      "413         0       3                            Spector, Mr. Woolf    male   \n",
      "414         1       1                  Oliva y Ocana, Dona. Fermina  female   \n",
      "415         0       3                  Saether, Mr. Simon Sivertsen    male   \n",
      "416         0       3                           Ware, Mr. Frederick    male   \n",
      "417         0       3                      Peter, Master. Michael J    male   \n",
      "\n",
      "           Age  SibSp  Parch              Ticket      Fare Embarked  \n",
      "0    34.500000      0      0              330911    7.8292        Q  \n",
      "1    47.000000      1      0              363272    7.0000        S  \n",
      "2    62.000000      0      0              240276    9.6875        Q  \n",
      "3    27.000000      0      0              315154    8.6625        S  \n",
      "4    22.000000      1      1             3101298   12.2875        S  \n",
      "..         ...    ...    ...                 ...       ...      ...  \n",
      "413  30.181269      0      0           A.5. 3236    8.0500        S  \n",
      "414  39.000000      0      0            PC 17758  108.9000        C  \n",
      "415  38.500000      0      0  SOTON/O.Q. 3101262    7.2500        S  \n",
      "416  30.181269      0      0              359309    8.0500        S  \n",
      "417  30.181269      1      1                2668   22.3583        C  \n",
      "\n",
      "[417 rows x 10 columns]\n"
     ]
    }
   ],
   "source": [
    "df['Age'] = df['Age'].fillna(df['Age'].mean())\n",
    "\n",
    "print(df)\n"
   ]
  },
  {
   "cell_type": "markdown",
   "metadata": {
    "id": "qjLNr3hXR3rp"
   },
   "source": [
    "### Apply the ceiling function to all the values in the `Age` column and transform it from float to integer:"
   ]
  },
  {
   "cell_type": "code",
   "execution_count": 152,
   "metadata": {
    "id": "Sw8GGhaoR2L_"
   },
   "outputs": [],
   "source": [
    "df['Age'] = np.ceil(df['Age']).astype(int)"
   ]
  },
  {
   "cell_type": "markdown",
   "metadata": {
    "id": "o5Anb-wfstWq"
   },
   "source": [
    "### Save all changes in a new excel file called `cleaned_data.xlsx`:"
   ]
  },
  {
   "cell_type": "code",
   "execution_count": 216,
   "metadata": {
    "id": "pG44_spCstWr"
   },
   "outputs": [],
   "source": [
    "df.to_excel('cleaned_data.xlsx', index = False)"
   ]
  },
  {
   "cell_type": "markdown",
   "metadata": {
    "id": "j8tEnYnkSvBJ"
   },
   "source": [
    "### What did you notice about the data?\n",
    "> Write your notes and insights in the next empty markdown cell\n",
    "\n",
    "**Note:** You are free to write any code to help you **get more insights** , it would be nice to do some **filtering** and **grouping** in data\n",
    "\n",
    "\n",
    "\n",
    "\n"
   ]
  },
  {
   "cell_type": "markdown",
   "metadata": {
    "id": "cT_Xw-Y9j8Yn"
   },
   "source": [
    "[Your answer]"
   ]
  },
  {
   "cell_type": "code",
   "execution_count": 218,
   "metadata": {
    "id": "lRG4tRMQUmzh"
   },
   "outputs": [
    {
     "name": "stdout",
     "output_type": "stream",
     "text": [
      "     Survived  Pclass                                          Name     Sex  \\\n",
      "0           0       3                              Kelly, Mr. James    male   \n",
      "1           1       3              Wilkes, Mrs. James (Ellen Needs)  female   \n",
      "2           0       2                     Myles, Mr. Thomas Francis    male   \n",
      "3           0       3                              Wirz, Mr. Albert    male   \n",
      "4           1       3  Hirvonen, Mrs. Alexander (Helga E Lindqvist)  female   \n",
      "..        ...     ...                                           ...     ...   \n",
      "412         0       3                            Spector, Mr. Woolf    male   \n",
      "413         1       1                  Oliva y Ocana, Dona. Fermina  female   \n",
      "414         0       3                  Saether, Mr. Simon Sivertsen    male   \n",
      "415         0       3                           Ware, Mr. Frederick    male   \n",
      "416         0       3                      Peter, Master. Michael J    male   \n",
      "\n",
      "     Age  SibSp  Parch              Ticket      Fare Embarked  \n",
      "0     35      0      0              330911    7.8292        Q  \n",
      "1     47      1      0              363272    7.0000        S  \n",
      "2     62      0      0              240276    9.6875        Q  \n",
      "3     27      0      0              315154    8.6625        S  \n",
      "4     22      1      1             3101298   12.2875        S  \n",
      "..   ...    ...    ...                 ...       ...      ...  \n",
      "412   31      0      0           A.5. 3236    8.0500        S  \n",
      "413   39      0      0            PC 17758  108.9000        C  \n",
      "414   39      0      0  SOTON/O.Q. 3101262    7.2500        S  \n",
      "415   31      0      0              359309    8.0500        S  \n",
      "416   31      1      1                2668   22.3583        C  \n",
      "\n",
      "[417 rows x 10 columns]\n"
     ]
    }
   ],
   "source": [
    "df_cleaned = pd.read_excel('cleaned_data.xlsx')\n",
    "print(df_cleaned)"
   ]
  },
  {
   "cell_type": "code",
   "execution_count": 172,
   "metadata": {},
   "outputs": [],
   "source": [
    "# (1) First Note:\n",
    "## The data is cleaned, with no obvious missing values (e.g., \"NA\" or \"Unknown\") in the displayed rows.\n",
    "## => the Age column become more realistic, as there is no fractins like: 0.17"
   ]
  },
  {
   "cell_type": "code",
   "execution_count": 220,
   "metadata": {},
   "outputs": [
    {
     "data": {
      "text/plain": [
       "Sex\n",
       "male      63.549161\n",
       "female    36.450839\n",
       "Name: proportion, dtype: float64"
      ]
     },
     "execution_count": 220,
     "metadata": {},
     "output_type": "execute_result"
    }
   ],
   "source": [
    "# (2) Second Note\n",
    "df_cleaned['Sex'].value_counts(normalize=True) * 100\n",
    "\n",
    "## the male passengers is more than female"
   ]
  },
  {
   "cell_type": "code",
   "execution_count": 208,
   "metadata": {},
   "outputs": [
    {
     "data": {
      "text/plain": [
       "Survived\n",
       "0    63.549161\n",
       "1    36.450839\n",
       "Name: proportion, dtype: float64"
      ]
     },
     "execution_count": 208,
     "metadata": {},
     "output_type": "execute_result"
    }
   ],
   "source": [
    "# (3) Third Note\n",
    "df['Survived'].value_counts(normalize=True) * 100\n",
    "\n",
    "## Majority of passengers died in the Titanic disaster *_*"
   ]
  },
  {
   "cell_type": "code",
   "execution_count": 240,
   "metadata": {},
   "outputs": [
    {
     "name": "stdout",
     "output_type": "stream",
     "text": [
      "     Survived  Pclass                                          Name     Sex  \\\n",
      "0           0       3                              Kelly, Mr. James    male   \n",
      "1           1       3              Wilkes, Mrs. James (Ellen Needs)  female   \n",
      "2           0       2                     Myles, Mr. Thomas Francis    male   \n",
      "3           0       3                              Wirz, Mr. Albert    male   \n",
      "4           1       3  Hirvonen, Mrs. Alexander (Helga E Lindqvist)  female   \n",
      "..        ...     ...                                           ...     ...   \n",
      "412         0       3                            Spector, Mr. Woolf    male   \n",
      "413         1       1                  Oliva y Ocana, Dona. Fermina  female   \n",
      "414         0       3                  Saether, Mr. Simon Sivertsen    male   \n",
      "415         0       3                           Ware, Mr. Frederick    male   \n",
      "416         0       3                      Peter, Master. Michael J    male   \n",
      "\n",
      "     Age  SibSp  Parch              Ticket      Fare Embarked  \n",
      "0     35      0      0              330911    7.8292        Q  \n",
      "1     47      1      0              363272    7.0000        S  \n",
      "2     62      0      0              240276    9.6875        Q  \n",
      "3     27      0      0              315154    8.6625        S  \n",
      "4     22      1      1             3101298   12.2875        S  \n",
      "..   ...    ...    ...                 ...       ...      ...  \n",
      "412   31      0      0           A.5. 3236    8.0500        S  \n",
      "413   39      0      0            PC 17758  108.9000        C  \n",
      "414   39      0      0  SOTON/O.Q. 3101262    7.2500        S  \n",
      "415   31      0      0              359309    8.0500        S  \n",
      "416   31      1      1                2668   22.3583        C  \n",
      "\n",
      "[417 rows x 10 columns]\n"
     ]
    }
   ],
   "source": [
    "print(df_cleaned)"
   ]
  },
  {
   "cell_type": "code",
   "execution_count": 244,
   "metadata": {},
   "outputs": [
    {
     "name": "stdout",
     "output_type": "stream",
     "text": [
      "Sex\n",
      "male    100.0\n",
      "Name: proportion, dtype: float64\n"
     ]
    }
   ],
   "source": [
    "# (4) Forth Note\n",
    "## the percetage of male deads agains Females\n",
    "\n",
    "dead = df_cleaned[df_cleaned['Survived'] == 0]\n",
    "\n",
    "dead_gender_percentage = dead['Sex'].value_counts(normalize=True) * 100\n",
    "\n",
    "print(dead_gender_percentage)\n"
   ]
  },
  {
   "cell_type": "code",
   "execution_count": 246,
   "metadata": {},
   "outputs": [
    {
     "data": {
      "text/plain": [
       "0                  330911\n",
       "1                  363272\n",
       "2                  240276\n",
       "3                  315154\n",
       "4                 3101298\n",
       "              ...        \n",
       "412             A.5. 3236\n",
       "413              PC 17758\n",
       "414    SOTON/O.Q. 3101262\n",
       "415                359309\n",
       "416                  2668\n",
       "Name: Ticket, Length: 417, dtype: object"
      ]
     },
     "execution_count": 246,
     "metadata": {},
     "output_type": "execute_result"
    }
   ],
   "source": [
    "# (5) Fifth Note\n",
    "df_cleaned['Ticket']\n",
    "##The \"Ticket\" column contains a mix of numeric and alphanumeric values, which may require further parsing."
   ]
  }
 ],
 "metadata": {
  "colab": {
   "provenance": []
  },
  "kernelspec": {
   "display_name": "Python 3 (ipykernel)",
   "language": "python",
   "name": "python3"
  },
  "language_info": {
   "codemirror_mode": {
    "name": "ipython",
    "version": 3
   },
   "file_extension": ".py",
   "mimetype": "text/x-python",
   "name": "python",
   "nbconvert_exporter": "python",
   "pygments_lexer": "ipython3",
   "version": "3.12.7"
  }
 },
 "nbformat": 4,
 "nbformat_minor": 4
}
