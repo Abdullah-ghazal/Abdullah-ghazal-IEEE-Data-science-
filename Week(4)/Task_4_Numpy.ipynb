{
  "cells": [
    {
      "cell_type": "markdown",
      "id": "01b6368a",
      "metadata": {
        "id": "01b6368a"
      },
      "source": [
        "# Task 4\n"
      ]
    },
    {
      "cell_type": "markdown",
      "id": "25547c4f",
      "metadata": {
        "id": "25547c4f"
      },
      "source": [
        "### 1.What does the size attribute in numpy use to find?\n",
        "\n",
        "> - A) number of items\n",
        "> - B) shape\n",
        "> - C) date & time\n",
        "> - D) unique items"
      ]
    },
    {
      "cell_type": "code",
      "execution_count": 2,
      "id": "cc8734a0",
      "metadata": {
        "id": "cc8734a0",
        "outputId": "1907b465-6e86-4b4f-a643-3da53c12788f",
        "colab": {
          "base_uri": "https://localhost:8080/"
        }
      },
      "outputs": [
        {
          "output_type": "stream",
          "name": "stdout",
          "text": [
            "4\n"
          ]
        }
      ],
      "source": [
        "## answer is : A) number of items\n",
        "#EX:\n",
        "import numpy as np\n",
        "\n",
        "a = np.array([[1, 2], [3, 4]])\n",
        "print(a.size)\n"
      ]
    },
    {
      "cell_type": "markdown",
      "id": "9536fd11",
      "metadata": {
        "id": "9536fd11"
      },
      "source": [
        "### 2.What method is used for changing the shape of numpy arrays?\n",
        "\n",
        "> - A) shape()\n",
        "> - B) change_shape()\n",
        "> - C) update_shape()\n",
        "> - D) reshape()"
      ]
    },
    {
      "cell_type": "code",
      "execution_count": 1,
      "id": "9ffefcbd",
      "metadata": {
        "id": "9ffefcbd",
        "outputId": "68cefab2-0e82-470a-f88b-d2984b5045b0",
        "colab": {
          "base_uri": "https://localhost:8080/"
        }
      },
      "outputs": [
        {
          "output_type": "stream",
          "name": "stdout",
          "text": [
            "[[1 2 3]\n",
            " [4 5 6]]\n"
          ]
        }
      ],
      "source": [
        "## answer is : D) reshape()\n",
        "# EX:\n",
        "import numpy as np\n",
        "\n",
        "a = np.array([1, 2, 3, 4, 5, 6])\n",
        "b = a.reshape(2, 3)\n",
        "print(b)"
      ]
    },
    {
      "cell_type": "markdown",
      "id": "3280ba3a",
      "metadata": {
        "id": "3280ba3a"
      },
      "source": [
        "### 3.What is the purpose of zero() function?\n",
        "\n",
        "> - A) To create a matrix with the first row and first column as 0\n",
        "> - B) To create a matrix with diagonal elements as 0\n",
        "> - C) To create a matrix with all elements as 0\n",
        "> - D) To return an integer number 0"
      ]
    },
    {
      "cell_type": "code",
      "execution_count": 4,
      "id": "a9c9dfe2",
      "metadata": {
        "id": "a9c9dfe2",
        "outputId": "8b91d286-fd5a-4c33-af43-b6ffba67048c",
        "colab": {
          "base_uri": "https://localhost:8080/"
        }
      },
      "outputs": [
        {
          "output_type": "stream",
          "name": "stdout",
          "text": [
            "[[0. 0. 0.]\n",
            " [0. 0. 0.]]\n"
          ]
        }
      ],
      "source": [
        "## answer is :  C) To create a matrix with all elements as 0\n",
        "# EX:\n",
        "import numpy as np\n",
        "\n",
        "zero_matrix = np.zeros((2, 3))\n",
        "print(zero_matrix)"
      ]
    },
    {
      "cell_type": "markdown",
      "id": "0ececdec",
      "metadata": {
        "id": "0ececdec"
      },
      "source": [
        "### 4.Why do we use ndim?\n",
        "\n",
        "> - A) To find the size of an array\n",
        "> - B) To find the dimension of an array\n",
        "> - C) To find the number of elements in an array\n",
        "> - D) There is no such thing as ndim"
      ]
    },
    {
      "cell_type": "code",
      "execution_count": 7,
      "id": "646f1381",
      "metadata": {
        "id": "646f1381",
        "outputId": "98bf1f18-c378-4378-fcc3-8ff1a584a34d",
        "colab": {
          "base_uri": "https://localhost:8080/"
        }
      },
      "outputs": [
        {
          "output_type": "stream",
          "name": "stdout",
          "text": [
            "1\n",
            "2\n",
            "3\n"
          ]
        }
      ],
      "source": [
        "## answer is : B) To find the dimension of an array\n",
        "# EX:\n",
        "\n",
        "import numpy as np\n",
        "\n",
        "arr_1D = np.array([1,2,3])\n",
        "arr_2D = np.array([[1,2,3],[4,5,6]])\n",
        "arr_3D = np.array([[[1,2,3],[4,5,6]],[[10,20,30],[40,50,60]]])\n",
        "\n",
        "print(np.ndim(arr_1D))\n",
        "print(np.ndim(arr_2D))\n",
        "print(np.ndim(arr_3D))\n"
      ]
    },
    {
      "cell_type": "markdown",
      "id": "3618682c",
      "metadata": {
        "id": "3618682c"
      },
      "source": [
        "<h1><font color='brown'> Answer these question"
      ]
    },
    {
      "cell_type": "markdown",
      "id": "e69e4a90",
      "metadata": {
        "id": "e69e4a90"
      },
      "source": [
        "## 1- create 1D, 2D and 3D arrays in NumPy? then returns the type of the elements stored in the NumPy array."
      ]
    },
    {
      "cell_type": "code",
      "execution_count": 8,
      "id": "9c191a1e",
      "metadata": {
        "id": "9c191a1e",
        "outputId": "d06e29a1-a30b-4820-f147-b809246751fb",
        "colab": {
          "base_uri": "https://localhost:8080/"
        }
      },
      "outputs": [
        {
          "output_type": "stream",
          "name": "stdout",
          "text": [
            "int64\n"
          ]
        }
      ],
      "source": [
        "# One-Dimensional array\n",
        "arr_1D = np.array([1,2,3])\n",
        "print(arr_1D.dtype)\n"
      ]
    },
    {
      "cell_type": "code",
      "execution_count": 10,
      "id": "94c39d76",
      "metadata": {
        "id": "94c39d76",
        "outputId": "01d4df05-f534-4c75-be67-23538ab8d097",
        "colab": {
          "base_uri": "https://localhost:8080/"
        }
      },
      "outputs": [
        {
          "output_type": "stream",
          "name": "stdout",
          "text": [
            "int64\n"
          ]
        }
      ],
      "source": [
        "# Two-Dimensional array\n",
        "arr_2D = np.array([[1,2,3],[4,5,6]])\n",
        "print(arr_2D.dtype)\n"
      ]
    },
    {
      "cell_type": "code",
      "execution_count": 9,
      "id": "be5ef3e2",
      "metadata": {
        "id": "be5ef3e2",
        "outputId": "403d4709-f18c-4f2f-da20-ec987d2d0413",
        "colab": {
          "base_uri": "https://localhost:8080/"
        }
      },
      "outputs": [
        {
          "output_type": "stream",
          "name": "stdout",
          "text": [
            "int64\n"
          ]
        }
      ],
      "source": [
        "# Three-Dimensional array\n",
        "arr_3D = np.array([[[1,2,3],[4,5,6]],[[10,20,30],[40,50,60]]])\n",
        "print(arr_3D.dtype)"
      ]
    },
    {
      "cell_type": "markdown",
      "id": "a7846d9f",
      "metadata": {
        "id": "a7846d9f"
      },
      "source": [
        "## 2-Reverse this array [[[1,2,3,4],[4,5,6,7],[7,8,9,10]]] in two ways......"
      ]
    },
    {
      "cell_type": "code",
      "execution_count": 18,
      "id": "e98b8f1a",
      "metadata": {
        "id": "e98b8f1a",
        "outputId": "d7918596-2f8c-448b-fd18-bf2c17533072",
        "colab": {
          "base_uri": "https://localhost:8080/"
        }
      },
      "outputs": [
        {
          "output_type": "stream",
          "name": "stdout",
          "text": [
            "[[[ 4  3  2  1]\n",
            "  [ 7  6  5  4]\n",
            "  [10  9  8  7]]]\n"
          ]
        }
      ],
      "source": [
        "# Method one\n",
        "arr = np.array([[[1,2,3,4],[4,5,6,7],[7,8,9,10]]])\n",
        "print(arr[...,::-1])"
      ]
    },
    {
      "cell_type": "code",
      "execution_count": 23,
      "id": "48627ad8",
      "metadata": {
        "id": "48627ad8",
        "outputId": "48870f3b-f4ce-484b-e618-7857690e4f4e",
        "colab": {
          "base_uri": "https://localhost:8080/"
        }
      },
      "outputs": [
        {
          "output_type": "stream",
          "name": "stdout",
          "text": [
            "[[[ 1  2  3  4]\n",
            "  [ 4  5  6  7]\n",
            "  [ 7  8  9 10]]]\n"
          ]
        }
      ],
      "source": [
        "# Method two\n",
        "#>**hint**: use flipud function\n",
        "arr2 = np.array([[[1,2,3,4],[4,5,6,7],[7,8,9,10]]])\n",
        "print(np.flipud(arr2))"
      ]
    },
    {
      "cell_type": "markdown",
      "id": "02327a15",
      "metadata": {
        "id": "02327a15"
      },
      "source": [
        "## -Display the size & length of the array"
      ]
    },
    {
      "cell_type": "code",
      "execution_count": 26,
      "id": "1baa8d80",
      "metadata": {
        "id": "1baa8d80",
        "outputId": "66a96153-bb83-421b-8111-08d93476cbf4",
        "colab": {
          "base_uri": "https://localhost:8080/"
        }
      },
      "outputs": [
        {
          "output_type": "stream",
          "name": "stdout",
          "text": [
            "6\n",
            "2\n"
          ]
        }
      ],
      "source": [
        "arr = np.array([[1, 2, 3], [4, 5, 6]])\n",
        "\n",
        "#size\n",
        "print(arr.size)\n",
        "\n",
        "#len\n",
        "print(len(arr))"
      ]
    },
    {
      "cell_type": "markdown",
      "source": [],
      "metadata": {
        "id": "S42G-u8TZBr1"
      },
      "id": "S42G-u8TZBr1"
    },
    {
      "cell_type": "markdown",
      "id": "e85f1615",
      "metadata": {
        "id": "e85f1615"
      },
      "source": [
        "[link text](https://\\)## -Make this array as an array one dimensional"
      ]
    },
    {
      "cell_type": "code",
      "execution_count": 28,
      "id": "ebb77e8a",
      "metadata": {
        "id": "ebb77e8a",
        "outputId": "671c8cc4-2e9f-4e5c-db70-2555bcdb7a41",
        "colab": {
          "base_uri": "https://localhost:8080/"
        }
      },
      "outputs": [
        {
          "output_type": "stream",
          "name": "stdout",
          "text": [
            "[1 2 3 4 5 6]\n",
            "[1 2 3 4 5 6]\n"
          ]
        }
      ],
      "source": [
        "arr_1d = arr.flatten()\n",
        "print(arr_1d)\n",
        "\n"
      ]
    },
    {
      "cell_type": "code",
      "execution_count": null,
      "id": "72487dda",
      "metadata": {
        "id": "72487dda"
      },
      "outputs": [],
      "source": [
        "# or\n",
        "print(arr.reshape(-1))"
      ]
    },
    {
      "cell_type": "code",
      "execution_count": null,
      "id": "5592846a",
      "metadata": {
        "id": "5592846a"
      },
      "outputs": [],
      "source": []
    },
    {
      "cell_type": "markdown",
      "id": "bc6fd424",
      "metadata": {
        "id": "bc6fd424"
      },
      "source": [
        "## 3-make an array using random function with size (2,3) & with integer values\n",
        ">**hint**: use seed function to make numbers not change"
      ]
    },
    {
      "cell_type": "code",
      "execution_count": 44,
      "id": "04f6f820",
      "metadata": {
        "id": "04f6f820",
        "outputId": "5679f04f-28a7-470c-b260-f0b9b4c39806",
        "colab": {
          "base_uri": "https://localhost:8080/"
        }
      },
      "outputs": [
        {
          "output_type": "stream",
          "name": "stdout",
          "text": [
            "[[5 8 9]\n",
            " [5 0 0]]\n"
          ]
        }
      ],
      "source": [
        "np.random.seed(40)\n",
        "random_array = np.random.randint(0, 10, size=(2, 3))\n",
        "print(random_array)"
      ]
    },
    {
      "cell_type": "markdown",
      "id": "84930f68",
      "metadata": {
        "id": "84930f68"
      },
      "source": [
        "## -Transpose this array"
      ]
    },
    {
      "cell_type": "code",
      "execution_count": 49,
      "id": "d9fb157f",
      "metadata": {
        "id": "d9fb157f",
        "outputId": "6a8c8065-716e-4537-9e64-6ed5f2bc45ce",
        "colab": {
          "base_uri": "https://localhost:8080/"
        }
      },
      "outputs": [
        {
          "output_type": "stream",
          "name": "stdout",
          "text": [
            "[[5 5]\n",
            " [8 0]\n",
            " [9 0]]\n"
          ]
        }
      ],
      "source": [
        "print(np.transpose(random_array))"
      ]
    },
    {
      "cell_type": "markdown",
      "id": "eae73db7",
      "metadata": {
        "id": "eae73db7"
      },
      "source": [
        "## 4-How is np.mean() different from np.average() in NumPy?"
      ]
    },
    {
      "cell_type": "code",
      "execution_count": 52,
      "id": "8u9uBik3OHNt",
      "metadata": {
        "id": "8u9uBik3OHNt",
        "outputId": "007b3e16-4e11-4a1c-957d-23fc99938e54",
        "colab": {
          "base_uri": "https://localhost:8080/"
        }
      },
      "outputs": [
        {
          "output_type": "stream",
          "name": "stdout",
          "text": [
            "2.5\n",
            "2.8\n"
          ]
        }
      ],
      "source": [
        "# np.average() is use to compute a weighted average:\n",
        "\n",
        "#mean:\n",
        "a = np.array([1, 2, 3, 4])\n",
        "print(np.mean(a))\n",
        "\n",
        "#average:\n",
        "weights = np.array([0.1, 0.2, 0.5, 0.2])\n",
        "print(np.average(a, weights=weights))"
      ]
    },
    {
      "cell_type": "markdown",
      "id": "81a2ddc8",
      "metadata": {
        "id": "81a2ddc8"
      },
      "source": [
        "## 5-Count the frequency of a given positive value appearing in this NumPy array\n",
        "## [1, 2, 1, 3, 5, 0, 0, 0, 2, 3] ?"
      ]
    },
    {
      "cell_type": "code",
      "execution_count": 55,
      "id": "de7ee71c",
      "metadata": {
        "id": "de7ee71c",
        "outputId": "28cc3f06-2e86-4656-ec42-0077e458cc31",
        "colab": {
          "base_uri": "https://localhost:8080/"
        }
      },
      "outputs": [
        {
          "output_type": "stream",
          "name": "stdout",
          "text": [
            "Frequency of 0: 3\n",
            "Frequency of 1: 2\n",
            "Frequency of 2: 2\n",
            "Frequency of 3: 2\n",
            "Frequency of 5: 1\n"
          ]
        }
      ],
      "source": [
        "arr = np.array([1, 2, 1, 3, 5, 0, 0, 0, 2, 3])\n",
        "\n",
        "for value in set(arr):\n",
        "  count = np.count_nonzero(arr == value)\n",
        "  print(f\"Frequency of {value}: {count}\")  # Output: 2"
      ]
    },
    {
      "cell_type": "markdown",
      "id": "dba015f1",
      "metadata": {
        "id": "dba015f1"
      },
      "source": [
        "## 6-Show how is arr[:,0] different from arr[:,[0]]\\"
      ]
    },
    {
      "cell_type": "code",
      "execution_count": 57,
      "id": "6fe4ab56",
      "metadata": {
        "id": "6fe4ab56",
        "outputId": "61717a87-cae0-4261-ff76-6180d98caa28",
        "colab": {
          "base_uri": "https://localhost:8080/"
        }
      },
      "outputs": [
        {
          "output_type": "stream",
          "name": "stdout",
          "text": [
            "[1 4 7]\n"
          ]
        }
      ],
      "source": [
        "# 1) arr[:,0]\n",
        "arr = np.array([[1, 2, 3],\n",
        "                [4, 5, 6],\n",
        "                [7, 8, 9]])\n",
        "\n",
        "print(arr[:,0])\n",
        "\n",
        "# Vector\n",
        "# select all rows and the 1st column\n"
      ]
    },
    {
      "cell_type": "code",
      "execution_count": 59,
      "id": "f4694086",
      "metadata": {
        "id": "f4694086",
        "outputId": "0e131ec8-7719-4573-ad8d-115a09618666",
        "colab": {
          "base_uri": "https://localhost:8080/"
        }
      },
      "outputs": [
        {
          "output_type": "stream",
          "name": "stdout",
          "text": [
            "[[1]\n",
            " [4]\n",
            " [7]]\n"
          ]
        }
      ],
      "source": [
        "# 1) arr[:,0]\n",
        "arr = np.array([[1, 2, 3],\n",
        "                [4, 5, 6],\n",
        "                [7, 8, 9]])\n",
        "\n",
        "print(arr[:,[0]])\n",
        "\n",
        "# Matrix\n",
        "# select all rows and one column from the columns"
      ]
    },
    {
      "cell_type": "markdown",
      "id": "6fe6ca1b",
      "metadata": {
        "id": "6fe6ca1b"
      },
      "source": [
        "## 7-How do you multiply these 2 NumPy array matrices [[15,16,17],[18,19,20],[21,22,23]]  &  [[20,21,22],[23,24,25],[26,27,28]] ?"
      ]
    },
    {
      "cell_type": "code",
      "execution_count": 60,
      "id": "7500d7e4",
      "metadata": {
        "id": "7500d7e4",
        "outputId": "fce9d47f-609a-4cc5-93f1-351b32c08c81",
        "colab": {
          "base_uri": "https://localhost:8080/"
        }
      },
      "outputs": [
        {
          "output_type": "stream",
          "name": "stdout",
          "text": [
            "[[300 336 374]\n",
            " [414 456 500]\n",
            " [546 594 644]]\n"
          ]
        }
      ],
      "source": [
        "# 1) element-wise\n",
        "A = np.array([[15, 16, 17],\n",
        "              [18, 19, 20],\n",
        "              [21, 22, 23]])\n",
        "\n",
        "B = np.array([[20, 21, 22],\n",
        "              [23, 24, 25],\n",
        "              [26, 27, 28]])\n",
        "\n",
        "print(A * B)"
      ]
    },
    {
      "cell_type": "code",
      "execution_count": 61,
      "id": "f9f6a9c3",
      "metadata": {
        "id": "f9f6a9c3",
        "outputId": "6708ce0c-39c2-4550-c27c-14ab274b0d01",
        "colab": {
          "base_uri": "https://localhost:8080/"
        }
      },
      "outputs": [
        {
          "output_type": "stream",
          "name": "stdout",
          "text": [
            "[[1110 1158 1206]\n",
            " [1317 1374 1431]\n",
            " [1524 1590 1656]]\n"
          ]
        }
      ],
      "source": [
        "# 2) matrix multiplication\n",
        "\n",
        "AB = np.dot(A,B)\n",
        "print(AB)"
      ]
    },
    {
      "cell_type": "code",
      "execution_count": null,
      "id": "29c487c4",
      "metadata": {
        "id": "29c487c4"
      },
      "outputs": [],
      "source": []
    },
    {
      "cell_type": "markdown",
      "id": "87e4e530",
      "metadata": {
        "id": "87e4e530"
      },
      "source": [
        "## -Combine these 2 NumPy arrays [1,2,3] & [4,5,6] using vstack()     and hstack()"
      ]
    },
    {
      "cell_type": "code",
      "execution_count": 67,
      "id": "5db28d09",
      "metadata": {
        "id": "5db28d09",
        "outputId": "335362c3-e3ec-45ea-edb6-45be5f5c0b7b",
        "colab": {
          "base_uri": "https://localhost:8080/"
        }
      },
      "outputs": [
        {
          "output_type": "stream",
          "name": "stdout",
          "text": [
            "[[15 16 17]\n",
            " [18 19 20]\n",
            " [21 22 23]\n",
            " [20 21 22]\n",
            " [23 24 25]\n",
            " [26 27 28]]\n"
          ]
        }
      ],
      "source": [
        "V_stack = np.vstack((A,B))\n",
        "print(V_stack)"
      ]
    },
    {
      "cell_type": "code",
      "execution_count": 66,
      "id": "e380547b",
      "metadata": {
        "id": "e380547b",
        "outputId": "2491d3ea-429b-4663-cba8-dd0edee4f66d",
        "colab": {
          "base_uri": "https://localhost:8080/"
        }
      },
      "outputs": [
        {
          "output_type": "stream",
          "name": "stdout",
          "text": [
            "[[15 16 17 20 21 22]\n",
            " [18 19 20 23 24 25]\n",
            " [21 22 23 26 27 28]]\n"
          ]
        }
      ],
      "source": [
        "H_stack = np.hstack((A,B))\n",
        "print(H_stack)"
      ]
    },
    {
      "cell_type": "markdown",
      "id": "DKUWVq49LxBa",
      "metadata": {
        "id": "DKUWVq49LxBa"
      },
      "source": [
        "<h1><font color='brown'> Solve These Problems"
      ]
    },
    {
      "cell_type": "markdown",
      "id": "MwvD232bMq32",
      "metadata": {
        "id": "MwvD232bMq32"
      },
      "source": [
        "<a href='https://codeforces.com/problemset/problem/339/A'> **problem 1**"
      ]
    },
    {
      "cell_type": "code",
      "execution_count": null,
      "id": "I5krJ01gLxBh",
      "metadata": {
        "id": "I5krJ01gLxBh"
      },
      "outputs": [],
      "source": [
        "# Problem_1 Link:\n",
        "arr = input().split('+')\n",
        "arr = sorted(arr)\n",
        "print('+'.join(arr))\n",
        "\n",
        "# Link: https://codeforces.com/contest/339/submission/318383079\n"
      ]
    },
    {
      "cell_type": "markdown",
      "id": "DatcMQ4EM3Hb",
      "metadata": {
        "id": "DatcMQ4EM3Hb"
      },
      "source": [
        "<a href='https://codeforces.com/problemset/problem/118/A'> **problem 2**"
      ]
    },
    {
      "cell_type": "code",
      "execution_count": null,
      "id": "bR2YKH5fLxBh",
      "metadata": {
        "id": "bR2YKH5fLxBh"
      },
      "outputs": [],
      "source": [
        "# Problem_2 Link:\n",
        "s = input().strip()\n",
        "vowels = {'a', 'o', 'y', 'e', 'u', 'i'}\n",
        "result = []\n",
        "for char in s:\n",
        "    lower_char = char.lower()\n",
        "    if lower_char not in vowels:\n",
        "        result.append('.')\n",
        "        result.append(lower_char)\n",
        "print(''.join(result))\n",
        "\n",
        "# Link: https://codeforces.com/contest/118/submission/318383399"
      ]
    }
  ],
  "metadata": {
    "colab": {
      "provenance": []
    },
    "kernelspec": {
      "display_name": "Python 3 (ipykernel)",
      "language": "python",
      "name": "python3"
    },
    "language_info": {
      "codemirror_mode": {
        "name": "ipython",
        "version": 3
      },
      "file_extension": ".py",
      "mimetype": "text/x-python",
      "name": "python",
      "nbconvert_exporter": "python",
      "pygments_lexer": "ipython3",
      "version": "3.9.12"
    }
  },
  "nbformat": 4,
  "nbformat_minor": 5
}